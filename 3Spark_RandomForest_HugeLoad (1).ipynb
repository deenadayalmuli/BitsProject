{
 "cells": [
  {
   "cell_type": "code",
   "execution_count": 1,
   "id": "891bc4d3",
   "metadata": {},
   "outputs": [],
   "source": [
    "from pyspark import SparkContext, SparkConf\n"
   ]
  },
  {
   "cell_type": "code",
   "execution_count": 2,
   "id": "3bafd5f1",
   "metadata": {},
   "outputs": [
    {
     "name": "stderr",
     "output_type": "stream",
     "text": [
      "Setting default log level to \"WARN\".\n",
      "To adjust logging level use sc.setLogLevel(newLevel). For SparkR, use setLogLevel(newLevel).\n"
     ]
    },
    {
     "name": "stdout",
     "output_type": "stream",
     "text": [
      "23/03/08 17:27:17 WARN NativeCodeLoader: Unable to load native-hadoop library for your platform... using builtin-java classes where applicable\n"
     ]
    }
   ],
   "source": [
    "#!pyspark --version\n",
    "from pyspark.sql import SparkSession\n",
    "spark = SparkSession.builder.getOrCreate()\n"
   ]
  },
  {
   "cell_type": "code",
   "execution_count": 3,
   "id": "233097da",
   "metadata": {},
   "outputs": [],
   "source": [
    "from pyspark.ml.feature import VectorAssembler"
   ]
  },
  {
   "cell_type": "code",
   "execution_count": 4,
   "id": "b7d782fd",
   "metadata": {},
   "outputs": [],
   "source": [
    "data = spark.read.csv(\"preprocessed_PCA.csv\", header=True, inferSchema=True)\n"
   ]
  },
  {
   "cell_type": "code",
   "execution_count": 5,
   "id": "523582b6",
   "metadata": {},
   "outputs": [],
   "source": [
    "# Prepare data for training\n",
    "assembler = VectorAssembler(inputCols=[\"PC1\", \"PC2\",\"PC3\",\"PC4\", \"PC5\",\"PC6\",\"PC7\", \"PC8\",\"PC9\",\"PC11\", \"PC11\",\"PC12\",\"PC13\",\"PC14\", \"PC15\",\"PC16\",\"PC17\", \"PC18\",\"PC19\",\"PC20\",\"PC21\",\"Amount\"], outputCol=\"features\")\n",
    "data = assembler.transform(data).select(\"Class\", \"features\")\n"
   ]
  },
  {
   "cell_type": "code",
   "execution_count": 6,
   "id": "749bad80",
   "metadata": {},
   "outputs": [
    {
     "name": "stdout",
     "output_type": "stream",
     "text": [
      "23/03/08 17:27:24 WARN package: Truncated the string representation of a plan since it was too large. This behavior can be adjusted by setting 'spark.sql.debug.maxToStringFields'.\n",
      "+-----+--------------------+\n",
      "|Class|            features|\n",
      "+-----+--------------------+\n",
      "|    0|[-1.093789312,1.7...|\n",
      "|    0|[-0.435343534,0.2...|\n",
      "|    0|[-0.156984757,-0....|\n",
      "|    0|[0.860355689,1.00...|\n",
      "|    1|[-0.981323376,-1....|\n",
      "+-----+--------------------+\n",
      "only showing top 5 rows\n",
      "\n",
      "+-----+--------------------+\n",
      "|label|            features|\n",
      "+-----+--------------------+\n",
      "|    0|[-1.093789312,1.7...|\n",
      "|    0|[-0.435343534,0.2...|\n",
      "+-----+--------------------+\n",
      "only showing top 2 rows\n",
      "\n"
     ]
    }
   ],
   "source": [
    "data.show(5)\n",
    "data1=data.withColumnRenamed(\"Class\",\"label\")\n",
    "data1.show(2)"
   ]
  },
  {
   "cell_type": "code",
   "execution_count": 7,
   "id": "c025c4d0",
   "metadata": {},
   "outputs": [],
   "source": [
    "(trainingData, testData) = data1.randomSplit([0.7, 0.3])\n"
   ]
  },
  {
   "cell_type": "code",
   "execution_count": 8,
   "id": "78d880f1",
   "metadata": {},
   "outputs": [
    {
     "name": "stdout",
     "output_type": "stream",
     "text": [
      "Start time: 2023-03-08 17:27:25.143103\n"
     ]
    },
    {
     "name": "stderr",
     "output_type": "stream",
     "text": [
      "                                                                                \r"
     ]
    },
    {
     "name": "stdout",
     "output_type": "stream",
     "text": [
      "End time: 2023-03-08 17:27:30.460656\n",
      "Duration: 5.3175530433654785 seconds\n"
     ]
    }
   ],
   "source": [
    "from pyspark.ml.classification import RandomForestClassifier\n",
    "from pyspark.ml.evaluation import MulticlassClassificationEvaluator\n",
    "\n",
    "# Create a RandomForestClassifier object\n",
    "rf = RandomForestClassifier(numTrees=10, maxDepth=5, seed=42)\n",
    "\n",
    "import pprint\n",
    "import time\n",
    "import datetime\n",
    "\n",
    "pp = pprint.PrettyPrinter(indent=4)\n",
    "# start time\n",
    "start_time = time.time()\n",
    "datetime_obj1 = datetime.datetime.fromtimestamp(start_time)\n",
    "print(f\"Start time: {datetime_obj1}\")\n",
    "\n",
    "# Train the RandomForestClassifier model on the training data\n",
    "model_ran = rf.fit(trainingData)\n",
    "\n",
    "# end time\n",
    "end_time = time.time()\n",
    "datetime_obj2 = datetime.datetime.fromtimestamp(end_time)\n",
    "\n",
    "# calculate the difference between start and end times in seconds\n",
    "duration = end_time - start_time\n",
    "\n",
    "# display the results\n",
    "print(f\"End time: {datetime_obj2}\")\n",
    "print(f\"Duration: {duration} seconds\")\n",
    "\n"
   ]
  },
  {
   "cell_type": "code",
   "execution_count": 9,
   "id": "8b11907f",
   "metadata": {},
   "outputs": [
    {
     "name": "stdout",
     "output_type": "stream",
     "text": [
      "Accuracy Random Forest: 0.9309295875458531\n"
     ]
    },
    {
     "name": "stderr",
     "output_type": "stream",
     "text": [
      "                                                                                \r"
     ]
    }
   ],
   "source": [
    "\n",
    "# Make predictions on the test data\n",
    "predictions_ran = model_ran.transform(testData)\n",
    "\n",
    "# Evaluate the accuracy of the model using the MulticlassClassificationEvaluator\n",
    "evaluator_ran = MulticlassClassificationEvaluator(metricName=\"accuracy\")\n",
    "accuracy_ran = evaluator_ran.evaluate(predictions_ran)\n",
    "\n",
    "# Print the accuracy of the model\n",
    "print(\"Accuracy Random Forest:\", accuracy_ran)"
   ]
  },
  {
   "cell_type": "code",
   "execution_count": 10,
   "id": "fd364d5b",
   "metadata": {},
   "outputs": [
    {
     "data": {
      "text/plain": [
       "DataFrame[label: int, features: vector, rawPrediction: vector, probability: vector, prediction: double]"
      ]
     },
     "execution_count": 10,
     "metadata": {},
     "output_type": "execute_result"
    }
   ],
   "source": [
    "predictions_ran"
   ]
  },
  {
   "cell_type": "code",
   "execution_count": 11,
   "id": "51ead2f7",
   "metadata": {},
   "outputs": [
    {
     "name": "stdout",
     "output_type": "stream",
     "text": [
      "+-----+----------+---------+\n",
      "|label|prediction|frequency|\n",
      "+-----+----------+---------+\n",
      "|    0|       0.0|    22988|\n",
      "|    0|       1.0|      472|\n",
      "|    1|       0.0|     1844|\n",
      "|    1|       1.0|     8227|\n",
      "+-----+----------+---------+\n",
      "\n"
     ]
    },
    {
     "name": "stderr",
     "output_type": "stream",
     "text": [
      "                                                                                \r"
     ]
    }
   ],
   "source": [
    "# Create a confusion matrix\n",
    "from pyspark.sql.functions import col\n",
    "\n",
    "confusion_matrix = predictions_ran.groupBy(\"label\", \"prediction\") \\\n",
    "    .count() \\\n",
    "    .orderBy([\"label\", \"prediction\"]) \\\n",
    "    .select(\"label\", \"prediction\", col(\"count\").alias(\"frequency\"))\n",
    "\n",
    "# Display the confusion matrix\n",
    "confusion_matrix.show()"
   ]
  },
  {
   "cell_type": "code",
   "execution_count": 12,
   "id": "2e5d3066",
   "metadata": {},
   "outputs": [
    {
     "data": {
      "image/png": "[encoded data removed]",
      "text/plain": [
       "<Figure size 640x480 with 2 Axes>"
      ]
     },
     "metadata": {},
     "output_type": "display_data"
    }
   ],
   "source": [
    "import seaborn as sns\n",
    "import matplotlib.pyplot as plt\n",
    "# Convert the confusion matrix to a Pandas DataFrame\n",
    "pandas_df = confusion_matrix.toPandas()\n",
    "\n",
    "# Create a pivot table to reshape the data for plotting\n",
    "pivot = pandas_df.pivot(index=\"label\", columns=\"prediction\", values=\"frequency\")\n",
    "\n",
    "# Create a heatmap plot of the confusion matrix\n",
    "sns.heatmap(pivot, annot=True, fmt=\"d\")\n",
    "\n",
    "# Set the plot title and axis labels\n",
    "plt.title(\"Spark Random Forest Confusion Matrix\")\n",
    "plt.xlabel(\"Predicted Label\")\n",
    "plt.ylabel(\"True Label\")\n",
    "\n",
    "# Show the plot\n",
    "plt.show()"
   ]
  },
  {
   "cell_type": "code",
   "execution_count": 13,
   "id": "6aaf5531",
   "metadata": {},
   "outputs": [
    {
     "name": "stderr",
     "output_type": "stream",
     "text": [
      "                                                                                \r"
     ]
    },
    {
     "name": "stdout",
     "output_type": "stream",
     "text": [
      "Precision for class 0 = 0.925741\n"
     ]
    },
    {
     "name": "stderr",
     "output_type": "stream",
     "text": [
      "                                                                                \r"
     ]
    },
    {
     "name": "stdout",
     "output_type": "stream",
     "text": [
      "Precision for class 1 = 0.945741\n"
     ]
    }
   ],
   "source": [
    "# Compute the precision for class 0\n",
    "tp = predictions_ran.filter(\"label = 0 and prediction = 0\").count()\n",
    "fp = predictions_ran.filter(\"label = 1 and prediction = 0\").count()\n",
    "precision_0 = tp / (tp + fp)\n",
    "print(\"Precision for class 0 = %g\" % precision_0)\n",
    "\n",
    "# Compute the precision for class 1\n",
    "tp = predictions_ran.filter(\"label = 1 and prediction = 1\").count()\n",
    "fp = predictions_ran.filter(\"label = 0 and prediction = 1\").count()\n",
    "precision_1 = tp / (tp + fp)\n",
    "print(\"Precision for class 1 = %g\" % precision_1)"
   ]
  },
  {
   "cell_type": "code",
   "execution_count": null,
   "id": "37fd2775",
   "metadata": {},
   "outputs": [],
   "source": [
    "\n",
    "\n"
   ]
  },
  {
   "cell_type": "code",
   "execution_count": null,
   "id": "e2d935ef",
   "metadata": {},
   "outputs": [],
   "source": []
  },
  {
   "cell_type": "code",
   "execution_count": null,
   "id": "207d0f4c",
   "metadata": {},
   "outputs": [],
   "source": []
  }
 ],
 "metadata": {
  "kernelspec": {
   "display_name": "conda_python3",
   "language": "python",
   "name": "conda_python3"
  },
  "language_info": {
   "codemirror_mode": {
    "name": "ipython",
    "version": 3
   },
   "file_extension": ".py",
   "mimetype": "text/x-python",
   "name": "python",
   "nbconvert_exporter": "python",
   "pygments_lexer": "ipython3",
   "version": "3.10.8"
  }
 },
 "nbformat": 4,
 "nbformat_minor": 5
}
