{
 "cells": [
  {
   "cell_type": "code",
   "execution_count": 1,
   "id": "c0df69d1",
   "metadata": {},
   "outputs": [],
   "source": [
    "from pyspark.ml.classification import LinearSVC\n"
   ]
  },
  {
   "cell_type": "code",
   "execution_count": 2,
   "id": "3b89e7d4",
   "metadata": {},
   "outputs": [
    {
     "name": "stderr",
     "output_type": "stream",
     "text": [
      "Setting default log level to \"WARN\".\n",
      "To adjust logging level use sc.setLogLevel(newLevel). For SparkR, use setLogLevel(newLevel).\n"
     ]
    },
    {
     "name": "stdout",
     "output_type": "stream",
     "text": [
      "23/03/11 17:22:43 WARN NativeCodeLoader: Unable to load native-hadoop library for your platform... using builtin-java classes where applicable\n",
      "23/03/11 17:22:43 WARN Utils: Service 'SparkUI' could not bind on port 4040. Attempting port 4041.\n"
     ]
    }
   ],
   "source": [
    "from pyspark import SparkContext, SparkConf\n",
    "from pyspark.sql import SparkSession\n",
    "spark = SparkSession.builder.getOrCreate()"
   ]
  },
  {
   "cell_type": "code",
   "execution_count": 3,
   "id": "3e7e2e48",
   "metadata": {},
   "outputs": [
    {
     "name": "stderr",
     "output_type": "stream",
     "text": [
      "                                                                                \r"
     ]
    },
    {
     "name": "stdout",
     "output_type": "stream",
     "text": [
      "23/03/11 17:22:50 WARN package: Truncated the string representation of a plan since it was too large. This behavior can be adjusted by setting 'spark.sql.debug.maxToStringFields'.\n",
      "+----+------------+------------+-----------+------------+------------+------------+------------+-----------+------------+------------+------------+------------+------------+------------+------------+------------+------------+------------+------------+------------+------------+------------+------------+------------+------------+------------+------------+------------+------+-----+\n",
      "|Time|         PC1|         PC2|        PC3|         PC4|         PC5|         PC6|         PC7|        PC8|         PC9|        PC10|        PC11|        PC12|        PC13|        PC14|        PC15|        PC16|        PC17|        PC18|        PC19|        PC20|        PC21|        PC22|        PC23|        PC24|        PC25|        PC26|        PC27|        PC28|Amount|Class|\n",
      "+----+------------+------------+-----------+------------+------------+------------+------------+-----------+------------+------------+------------+------------+------------+------------+------------+------------+------------+------------+------------+------------+------------+------------+------------+------------+------------+------------+------------+------------+------+-----+\n",
      "| 0.0|-1.359807134|-0.072781173|2.536346738| 1.378155224| -0.33832077| 0.462387778| 0.239598554|0.098697901|  0.36378697| 0.090794172|-0.551599533|-0.617800856|-0.991389847|-0.311169354| 1.468176972|-0.470400525| 0.207971242|  0.02579058|  0.40399296| 0.251412098|-0.018306778| 0.277837576| -0.11047391| 0.066928075| 0.128539358|-0.189114844| 0.133558377|-0.021053053|149.62|    0|\n",
      "| 0.0| 1.191857111| 0.266150712|0.166480113| 0.448154078| 0.060017649|-0.082360809|-0.078802983|0.085101655|-0.255425128|-0.166974414| 1.612726661| 1.065235311| 0.489095016|-0.143772296| 0.635558093| 0.463917041|-0.114804663| -0.18336127|-0.145783041|-0.069083135|-0.225775248|-0.638671953| 0.101288021|-0.339846476| 0.167170404| 0.125894532|-0.008983099| 0.014724169|  2.69|    0|\n",
      "| 1.0|-1.358354062|-1.340163075|1.773209343| 0.379779593|-0.503198133| 1.800499381| 0.791460956|0.247675787|-1.514654323| 0.207642865| 0.624501459| 0.066083685| 0.717292731|-0.165945923| 2.345864949|-2.890083194| 1.109969379|-0.121359313|-2.261857095| 0.524979725| 0.247998153| 0.771679402| 0.909412262|-0.689280956|-0.327641834|-0.139096572|-0.055352794|-0.059751841|378.66|    0|\n",
      "| 1.0|-0.966271712|-0.185226008| 1.79299334|-0.863291275| -0.01030888| 1.247203168|  0.23760894|0.377435875|-1.387024063|-0.054951922|-0.226487264| 0.178228226|  0.50775687|-0.287923745|-0.631418118|-1.059647245|-0.684092786| 1.965775003| -1.23262197|-0.208037781|-0.108300452| 0.005273597|-0.190320519|-1.175575332| 0.647376035|-0.221928844| 0.062722849| 0.061457629| 123.5|    1|\n",
      "+----+------------+------------+-----------+------------+------------+------------+------------+-----------+------------+------------+------------+------------+------------+------------+------------+------------+------------+------------+------------+------------+------------+------------+------------+------------+------------+------------+------------+------------+------+-----+\n",
      "only showing top 4 rows\n",
      "\n"
     ]
    },
    {
     "name": "stderr",
     "output_type": "stream",
     "text": [
      "                                                                                \r"
     ]
    },
    {
     "name": "stdout",
     "output_type": "stream",
     "text": [
      "+----+------------+-----------------+------------------+------------------+------------------+------------------+------------------+-----------------+------------------+------------------+-----------------+------------------+------------------+------------+-----------+------------+------------------+------------------+------------------+------------+------------------+------------------+------------------+------------------+------------+------------------+------------+------------------+------+-----+\n",
      "|Time|         PC1|              PC2|               PC3|               PC4|               PC5|               PC6|               PC7|              PC8|               PC9|              PC10|             PC11|              PC12|              PC13|        PC14|       PC15|        PC16|              PC17|              PC18|              PC19|        PC20|              PC21|              PC22|              PC23|              PC24|        PC25|              PC26|        PC27|              PC28|Amount|Class|\n",
      "+----+------------+-----------------+------------------+------------------+------------------+------------------+------------------+-----------------+------------------+------------------+-----------------+------------------+------------------+------------+-----------+------------+------------------+------------------+------------------+------------+------------------+------------------+------------------+------------------+------------+------------------+------------+------------------+------+-----+\n",
      "| 0.0|55.047702496|72.64294638700001|      50.861936098|7.0613264220000005|113.40498593000001|      26.622893718|      43.796840124|73.31541636099999|13.797853289999999|      24.679056612|      4.245873932|18.065913774000002|4.8004913590000005|18.903156136|5.967121649|13.659453995|25.370770611999998|       9.524536501|        7.61752039|54.749132588|34.812075361999995|      11.210981276|       44.69726129|       2.903554994|10.423936428|       2.415435709|22.699237697|15.409030857000001|149.62|    0|\n",
      "| 0.0|57.599366741|     72.981878272|      48.492069473|       6.131325276|113.80332434900001|      26.078145131|      43.478438587|     73.301820115|13.178641191999999|24.421288026000003|      6.410200126|      19.748949941|6.2809762220000005|19.070553194| 5.13450277|14.593771561|25.047994706999997| 9.315384650999999|7.0677443890000005|54.428637355|      34.604606892|10.294471747000001|44.909023221000005|       2.496780443|10.462567474|2.7304450850000004|22.556696221|15.444808079000001|  2.69|    0|\n",
      "| 1.0|55.049155568|     71.375564485|      50.098798703|6.0629507910000005|113.24010856700001|27.961005321000002|44.348702526000004|     73.464394247|      11.919411997|      24.795905305|5.421974924000001|      18.749798315|       6.509173937|19.048379567|6.844809626|11.239771326|26.272768748999997|       9.377386608|       4.951670335|55.022700215|35.078380292999995|      11.704823102|      45.717147462|2.1473459630000002| 9.967755236|       2.465453981|22.510326526|      15.370332069|378.66|    0|\n",
      "| 1.0|55.441237918|     72.530501552|50.118582700000005|       4.819879923|113.73299782000001|      27.407709108|       43.79485051|     73.594154335|      12.047042257|      24.533310518|      4.570986201|18.861942856000002|       6.299638076|18.926401745|3.867526559|13.070207275|24.478706583999998|11.464520923999999|        5.98090546|54.289682709|34.722081687999996|      10.938417297| 44.61741468100001|       1.661051587|10.942773105|2.3826217090000004|22.628402169|      15.491541539| 123.5|    1|\n",
      "+----+------------+-----------------+------------------+------------------+------------------+------------------+------------------+-----------------+------------------+------------------+-----------------+------------------+------------------+------------+-----------+------------+------------------+------------------+------------------+------------+------------------+------------------+------------------+------------------+------------+------------------+------------+------------------+------+-----+\n",
      "only showing top 4 rows\n",
      "\n"
     ]
    }
   ],
   "source": [
    "data = spark.read.csv(\"creditcard_hugefraud.csv\", header=True, inferSchema=True)\n",
    "data.show(4)\n",
    "from pyspark.sql.functions import abs, col\n",
    "from pyspark.sql import functions as fn\n",
    "\n",
    "# calculate the minimum value for each column\n",
    "min_vals = data.agg(*[fn.min(c).alias(c) for c in data.columns])\n",
    "\n",
    "# get the absolute minimum value from the DataFrame\n",
    "abs_min = min_vals.select([fn.abs(fn.col(c)).alias(c) for c in min_vals.columns]).first()\n",
    "\n",
    "included_cols = [c for c in data.columns if c not in ['Amount', 'Class']]\n",
    "#df_shifted = data.select([col(c) + abs_min[c] for c in included_cols],col('Amount'), col('Class'))\n",
    "#df_shifted = data.select([col(c) + abs_min[c] for c in included_cols])\n",
    "df_shifted = data.select(\n",
    "     *[(col(c) + abs_min[c]).alias(c) if c in included_cols else col(c).alias(c) for c in data.columns]\n",
    " )\n",
    "\n",
    "\n",
    "# shift the data to make all values non-negative\n",
    "#df_shifted = data.select([col(c) + abs_min[c] for c in data.columns])\n",
    "df_shifted.show(4)"
   ]
  },
  {
   "cell_type": "code",
   "execution_count": 4,
   "id": "0b6510b5",
   "metadata": {},
   "outputs": [],
   "source": [
    "# Prepare data for training\n",
    "from pyspark.ml.feature import VectorAssembler\n",
    "assembler = VectorAssembler(inputCols=[\"PC1\", \"PC2\",\"PC3\",\"PC4\", \"PC5\",\"PC6\",\"PC7\", \"PC8\",\"PC9\",\"PC11\", \"PC11\",\"PC12\",\"PC13\",\"PC14\", \"PC15\",\"PC16\",\"PC17\", \"PC18\",\"PC19\",\"PC20\",\"PC21\",\"Amount\"], outputCol=\"features\")\n",
    "data_1 = assembler.transform(df_shifted).select(\"Class\", \"features\")\n"
   ]
  },
  {
   "cell_type": "code",
   "execution_count": 5,
   "id": "03327ecc",
   "metadata": {},
   "outputs": [
    {
     "name": "stdout",
     "output_type": "stream",
     "text": [
      "+-----+---------------------------------------------------------------------------------------------------------------------------------------------------------------------------------------------------------------------------------------------------------------------------------------------------------------------------------------+\n",
      "|Class|features                                                                                                                                                                                                                                                                                                                               |\n",
      "+-----+---------------------------------------------------------------------------------------------------------------------------------------------------------------------------------------------------------------------------------------------------------------------------------------------------------------------------------------+\n",
      "|0    |[55.047702496,72.64294638700001,50.861936098,7.0613264220000005,113.40498593000001,26.622893718,43.796840124,73.31541636099999,13.797853289999999,4.245873932,4.245873932,18.065913774000002,4.8004913590000005,18.903156136,5.967121649,13.659453995,25.370770611999998,9.524536501,7.61752039,54.749132588,34.812075361999995,149.62]|\n",
      "|0    |[57.599366741,72.981878272,48.492069473,6.131325276,113.80332434900001,26.078145131,43.478438587,73.301820115,13.178641191999999,6.410200126,6.410200126,19.748949941,6.2809762220000005,19.070553194,5.13450277,14.593771561,25.047994706999997,9.315384650999999,7.0677443890000005,54.428637355,34.604606892,2.69]                  |\n",
      "+-----+---------------------------------------------------------------------------------------------------------------------------------------------------------------------------------------------------------------------------------------------------------------------------------------------------------------------------------------+\n",
      "only showing top 2 rows\n",
      "\n",
      "+-----+---------------------------------------------------------------------------------------------------------------------------------------------------------------------------------------------------------------------------------------------------------------------------------------------------------------------------------------+\n",
      "|label|features                                                                                                                                                                                                                                                                                                                               |\n",
      "+-----+---------------------------------------------------------------------------------------------------------------------------------------------------------------------------------------------------------------------------------------------------------------------------------------------------------------------------------------+\n",
      "|0    |[55.047702496,72.64294638700001,50.861936098,7.0613264220000005,113.40498593000001,26.622893718,43.796840124,73.31541636099999,13.797853289999999,4.245873932,4.245873932,18.065913774000002,4.8004913590000005,18.903156136,5.967121649,13.659453995,25.370770611999998,9.524536501,7.61752039,54.749132588,34.812075361999995,149.62]|\n",
      "|0    |[57.599366741,72.981878272,48.492069473,6.131325276,113.80332434900001,26.078145131,43.478438587,73.301820115,13.178641191999999,6.410200126,6.410200126,19.748949941,6.2809762220000005,19.070553194,5.13450277,14.593771561,25.047994706999997,9.315384650999999,7.0677443890000005,54.428637355,34.604606892,2.69]                  |\n",
      "+-----+---------------------------------------------------------------------------------------------------------------------------------------------------------------------------------------------------------------------------------------------------------------------------------------------------------------------------------------+\n",
      "only showing top 2 rows\n",
      "\n"
     ]
    }
   ],
   "source": [
    "data_1.show(2,False)\n",
    "data2=data_1.withColumnRenamed(\"Class\",\"label\")\n",
    "data2.show(2,False)"
   ]
  },
  {
   "cell_type": "code",
   "execution_count": 6,
   "id": "256e57d2",
   "metadata": {},
   "outputs": [
    {
     "name": "stderr",
     "output_type": "stream",
     "text": [
      "[Stage 11:>                                                         (0 + 8) / 8]\r"
     ]
    },
    {
     "name": "stdout",
     "output_type": "stream",
     "text": [
      "23/03/11 17:22:55 WARN InstanceBuilder$NativeBLAS: Failed to load implementation from:dev.ludovic.netlib.blas.JNIBLAS\n",
      "23/03/11 17:22:55 WARN InstanceBuilder$NativeBLAS: Failed to load implementation from:dev.ludovic.netlib.blas.ForeignLinkerBLAS\n"
     ]
    },
    {
     "name": "stderr",
     "output_type": "stream",
     "text": [
      "                                                                                \r"
     ]
    },
    {
     "name": "stdout",
     "output_type": "stream",
     "text": [
      "Start time: 1678555372.718918\n",
      "End time: 1678555387.7691917\n",
      "Duration: 15.050273656845093 seconds\n"
     ]
    }
   ],
   "source": [
    "(trainingData, testData) = data2.randomSplit([0.7, 0.3])\n",
    "from pyspark.ml.classification import LinearSVC\n",
    "# Create a LinearSVC instance with a regularization parameter of 0.1\n",
    "svc = LinearSVC(regParam=0.1)\n",
    "\n",
    "import time\n",
    "\n",
    "# start time\n",
    "start_time = time.time()\n",
    "\n",
    "# Fit the model to your data\n",
    "model_LSVC = svc.fit(trainingData)\n",
    "\n",
    "# end time\n",
    "end_time = time.time()\n",
    "\n",
    "# calculate the difference between start and end times in seconds\n",
    "duration = end_time - start_time\n",
    "\n",
    "# display the results\n",
    "print(f\"Start time: {start_time}\")\n",
    "print(f\"End time: {end_time}\")\n",
    "print(f\"Duration: {duration} seconds\")\n"
   ]
  },
  {
   "cell_type": "code",
   "execution_count": 7,
   "id": "e763d696",
   "metadata": {},
   "outputs": [
    {
     "name": "stderr",
     "output_type": "stream",
     "text": [
      "[Stage 597:>                                                        (0 + 8) / 8]\r"
     ]
    },
    {
     "name": "stdout",
     "output_type": "stream",
     "text": [
      "Accuracy LinearSVC: 0.6993507477474327\n"
     ]
    },
    {
     "name": "stderr",
     "output_type": "stream",
     "text": [
      "                                                                                \r"
     ]
    }
   ],
   "source": [
    "from pyspark.ml.evaluation import MulticlassClassificationEvaluator\n",
    "\n",
    "# Make predictions on the test data\n",
    "predictions_LSVC = model_LSVC.transform(testData)\n",
    "\n",
    "# Evaluate the accuracy of the model using the MulticlassClassificationEvaluator\n",
    "evaluator_LSVC = MulticlassClassificationEvaluator(metricName=\"accuracy\")\n",
    "accuracy_LSVC = evaluator_LSVC.evaluate(predictions_LSVC)\n",
    "\n",
    "# Print the accuracy of the model\n",
    "print(\"Accuracy LinearSVC:\", accuracy_LSVC)"
   ]
  },
  {
   "cell_type": "code",
   "execution_count": 8,
   "id": "8ab8dc65",
   "metadata": {},
   "outputs": [
    {
     "name": "stdout",
     "output_type": "stream",
     "text": [
      "Number of available executors: 1\n"
     ]
    }
   ],
   "source": [
    "# get the number of available executors\n",
    "num_executors = spark.sparkContext._jsc.sc().getExecutorMemoryStatus().size()\n",
    "\n",
    "# display the number of available executors\n",
    "print(f\"Number of available executors: {num_executors}\")"
   ]
  },
  {
   "cell_type": "code",
   "execution_count": 9,
   "id": "a8a7d97a",
   "metadata": {},
   "outputs": [
    {
     "name": "stderr",
     "output_type": "stream",
     "text": [
      "[Stage 599:=======>                                                 (1 + 7) / 8]\r"
     ]
    },
    {
     "name": "stdout",
     "output_type": "stream",
     "text": [
      "+-----+----------+---------+\n",
      "|label|prediction|frequency|\n",
      "+-----+----------+---------+\n",
      "|    0|       0.0|    59998|\n",
      "|    1|       0.0|    25793|\n",
      "+-----+----------+---------+\n",
      "\n"
     ]
    },
    {
     "name": "stderr",
     "output_type": "stream",
     "text": [
      "                                                                                \r"
     ]
    }
   ],
   "source": [
    "# Create a confusion matrix\n",
    "from pyspark.sql.functions import col\n",
    "\n",
    "confusion_matrix_LVSC = predictions_LSVC.groupBy(\"label\", \"prediction\") \\\n",
    "    .count() \\\n",
    "    .orderBy([\"label\", \"prediction\"]) \\\n",
    "    .select(\"label\", \"prediction\", col(\"count\").alias(\"frequency\"))\n",
    "\n",
    "# Display the confusion matrix\n",
    "confusion_matrix_LVSC.show()"
   ]
  },
  {
   "cell_type": "code",
   "execution_count": 10,
   "id": "35a5490b",
   "metadata": {},
   "outputs": [
    {
     "name": "stderr",
     "output_type": "stream",
     "text": [
      "                                                                                \r"
     ]
    },
    {
     "data": {
      "image/png": "[encoded data removed]",
      "text/plain": [
       "<Figure size 640x480 with 2 Axes>"
      ]
     },
     "metadata": {},
     "output_type": "display_data"
    }
   ],
   "source": [
    "import seaborn as sns\n",
    "import matplotlib.pyplot as plt\n",
    "# Convert the confusion matrix to a Pandas DataFrame\n",
    "pandas_df = confusion_matrix_LVSC.toPandas()\n",
    "\n",
    "# Create a pivot table to reshape the data for plotting\n",
    "pivot = pandas_df.pivot(index=\"label\", columns=\"prediction\", values=\"frequency\")\n",
    "\n",
    "# Create a heatmap plot of the confusion matrix\n",
    "#sns.heatmap(pivot, annot=True, fmt=\"d\")\n",
    "sns.heatmap(pivot, annot=True, fmt=\".1f\")\n",
    "\n",
    "# Set the plot title and axis labels\n",
    "plt.title(\"Spark Logistic Regression Tree Confusion Matrix\")\n",
    "plt.xlabel(\"Predicted Label\")\n",
    "plt.ylabel(\"True Label\")\n",
    "\n",
    "# Show the plot\n",
    "plt.show()"
   ]
  },
  {
   "cell_type": "code",
   "execution_count": 11,
   "id": "c9d0bb0b",
   "metadata": {},
   "outputs": [
    {
     "name": "stderr",
     "output_type": "stream",
     "text": [
      "                                                                                \r"
     ]
    },
    {
     "name": "stdout",
     "output_type": "stream",
     "text": [
      "Precision for class 0 = 0.699351\n"
     ]
    },
    {
     "name": "stderr",
     "output_type": "stream",
     "text": [
      "                                                                                \r"
     ]
    },
    {
     "ename": "ZeroDivisionError",
     "evalue": "division by zero",
     "output_type": "error",
     "traceback": [
      "\u001b[0;31m---------------------------------------------------------------------------\u001b[0m",
      "\u001b[0;31mZeroDivisionError\u001b[0m                         Traceback (most recent call last)",
      "Cell \u001b[0;32mIn[11], line 10\u001b[0m\n\u001b[1;32m      8\u001b[0m tp \u001b[38;5;241m=\u001b[39m predictions_LSVC\u001b[38;5;241m.\u001b[39mfilter(\u001b[38;5;124m\"\u001b[39m\u001b[38;5;124mlabel = 1 and prediction = 1\u001b[39m\u001b[38;5;124m\"\u001b[39m)\u001b[38;5;241m.\u001b[39mcount()\n\u001b[1;32m      9\u001b[0m fp \u001b[38;5;241m=\u001b[39m predictions_LSVC\u001b[38;5;241m.\u001b[39mfilter(\u001b[38;5;124m\"\u001b[39m\u001b[38;5;124mlabel = 0 and prediction = 1\u001b[39m\u001b[38;5;124m\"\u001b[39m)\u001b[38;5;241m.\u001b[39mcount()\n\u001b[0;32m---> 10\u001b[0m precision_1 \u001b[38;5;241m=\u001b[39m \u001b[43mtp\u001b[49m\u001b[43m \u001b[49m\u001b[38;5;241;43m/\u001b[39;49m\u001b[43m \u001b[49m\u001b[43m(\u001b[49m\u001b[43mtp\u001b[49m\u001b[43m \u001b[49m\u001b[38;5;241;43m+\u001b[39;49m\u001b[43m \u001b[49m\u001b[43mfp\u001b[49m\u001b[43m)\u001b[49m\n\u001b[1;32m     11\u001b[0m \u001b[38;5;28mprint\u001b[39m(\u001b[38;5;124m\"\u001b[39m\u001b[38;5;124mPrecision for class 1 = \u001b[39m\u001b[38;5;132;01m%g\u001b[39;00m\u001b[38;5;124m\"\u001b[39m \u001b[38;5;241m%\u001b[39m precision_1)\n",
      "\u001b[0;31mZeroDivisionError\u001b[0m: division by zero"
     ]
    }
   ],
   "source": [
    "# Compute the precision for class 0\n",
    "tp = predictions_LSVC.filter(\"label = 0 and prediction = 0\").count()\n",
    "fp = predictions_LSVC.filter(\"label = 1 and prediction = 0\").count()\n",
    "precision_0 = tp / (tp + fp)\n",
    "print(\"Precision for class 0 = %g\" % precision_0)\n",
    "\n",
    "# Compute the precision for class 1\n",
    "tp = predictions_LSVC.filter(\"label = 1 and prediction = 1\").count()\n",
    "fp = predictions_LSVC.filter(\"label = 0 and prediction = 1\").count()\n",
    "precision_1 = tp / (tp + fp)\n",
    "print(\"Precision for class 1 = %g\" % precision_1)"
   ]
  },
  {
   "cell_type": "code",
   "execution_count": null,
   "id": "ee3b73fb",
   "metadata": {},
   "outputs": [],
   "source": []
  }
 ],
 "metadata": {
  "kernelspec": {
   "display_name": "conda_python3",
   "language": "python",
   "name": "conda_python3"
  },
  "language_info": {
   "codemirror_mode": {
    "name": "ipython",
    "version": 3
   },
   "file_extension": ".py",
   "mimetype": "text/x-python",
   "name": "python",
   "nbconvert_exporter": "python",
   "pygments_lexer": "ipython3",
   "version": "3.10.8"
  }
 },
 "nbformat": 4,
 "nbformat_minor": 5
}
