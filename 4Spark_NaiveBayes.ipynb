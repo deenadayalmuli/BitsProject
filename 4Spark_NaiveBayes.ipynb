{
 "cells": [
  {
   "cell_type": "code",
   "execution_count": 1,
   "id": "1b8a5fb0",
   "metadata": {},
   "outputs": [
    {
     "name": "stderr",
     "output_type": "stream",
     "text": [
      "Setting default log level to \"WARN\".\n",
      "To adjust logging level use sc.setLogLevel(newLevel). For SparkR, use setLogLevel(newLevel).\n"
     ]
    },
    {
     "name": "stdout",
     "output_type": "stream",
     "text": [
      "23/03/13 14:46:43 WARN NativeCodeLoader: Unable to load native-hadoop library for your platform... using builtin-java classes where applicable\n",
      "23/03/13 14:46:43 WARN Utils: Service 'SparkUI' could not bind on port 4040. Attempting port 4041.\n",
      "23/03/13 14:46:43 WARN Utils: Service 'SparkUI' could not bind on port 4041. Attempting port 4042.\n"
     ]
    }
   ],
   "source": [
    "from pyspark import SparkContext, SparkConf\n",
    "from pyspark.sql import SparkSession\n",
    "spark = SparkSession.builder.getOrCreate()"
   ]
  },
  {
   "cell_type": "code",
   "execution_count": 2,
   "id": "13a6ca52",
   "metadata": {},
   "outputs": [
    {
     "name": "stderr",
     "output_type": "stream",
     "text": [
      "                                                                                \r"
     ]
    },
    {
     "name": "stdout",
     "output_type": "stream",
     "text": [
      "+----+------------+------------+------------+------------+------------+------------+------------+------------+------------+------------+------------+------------+------------+------------+------------+------------+------------+------------+------------+------------+------------+------+-----+\n",
      "|Time|         PC1|         PC2|         PC3|         PC4|         PC5|         PC6|         PC7|         PC8|         PC9|        PC10|        PC11|        PC12|        PC13|        PC14|        PC15|        PC16|        PC17|        PC18|        PC19|        PC20|        PC21|Amount|Class|\n",
      "+----+------------+------------+------------+------------+------------+------------+------------+------------+------------+------------+------------+------------+------------+------------+------------+------------+------------+------------+------------+------------+------------+------+-----+\n",
      "|   0|-1.093789312| 1.777731318|-0.812147507| 1.386259013| 0.093503784|-0.218078736| 1.355688242| 0.864874322| 0.327819299|-2.080175483|-1.570362866| 0.940485509|-1.532878668| 1.887418647|-1.155813395| 0.571798657|-0.855352695| 0.349938818|-0.654188918| 0.168111647| 0.888165713|  3.32|    0|\n",
      "|   1|-0.435343534| 0.292573205|-0.372873601| -0.83471816|-0.697836145|-0.315453246| 0.332867689| 0.567006376| 1.032427276| -1.82810733|-1.112481788| 1.025860407| 1.254308054| 0.239564955|-0.406053128|-0.566410803| 0.658789724|-1.380551272| 0.360912442|-0.335154649| -0.12429643| 44.97|    0|\n",
      "|   2|-0.156984757|-0.792039411|  0.23727223| 0.627224298|-1.488203134|-0.077488861| 0.592009908|-0.908550214|-0.379889474|-0.505105822|-0.788306704|-0.789164769|  1.73174712|-2.124892122|-1.126770305| 0.026359475| 2.046445415| 0.952471996| 0.322440141|-0.135928335|-0.841112482| 65.27|    0|\n",
      "|   3| 0.860355689|  1.00041174|-0.365616999|-0.037779736|  0.35181067| 0.056966728|-0.408515524|-2.236889865|-0.468195458|  1.09076533|-0.605331033| 1.116677025|-0.555897271| -0.08362619|-1.591069537| 0.416998118| 0.130925993|-0.659940522| 0.993525971|-0.966237014| 0.320231096|156.49|    0|\n",
      "+----+------------+------------+------------+------------+------------+------------+------------+------------+------------+------------+------------+------------+------------+------------+------------+------------+------------+------------+------------+------------+------------+------+-----+\n",
      "only showing top 4 rows\n",
      "\n",
      "+----+------------------+-----------+------------------+-----------+------------------+------------------+------------------+------------------+-----------+------------------+------------------+------------------+------------------+-----------+------------------+-----------+-----------------+------------------+-----------------+------------------+------------------+------+-----+\n",
      "|Time|               PC1|        PC2|               PC3|        PC4|               PC5|               PC6|               PC7|               PC8|        PC9|              PC10|              PC11|              PC12|              PC13|       PC14|              PC15|       PC16|             PC17|              PC18|             PC19|              PC20|              PC21|Amount|Class|\n",
      "+----+------------------+-----------+------------------+-----------+------------------+------------------+------------------+------------------+-----------+------------------+------------------+------------------+------------------+-----------+------------------+-----------+-----------------+------------------+-----------------+------------------+------------------+------+-----+\n",
      "|   0|       0.225320022|4.231796285|2.5467301709999997|5.361025796|       3.984293922|3.8085226920000004|       4.996401908|       4.548422923|4.070952752|1.3268742909999998|1.8136228760000002|       4.432562541|2.1157713030000003|5.491133026|       2.511461822|4.377341066|      2.932980445|3.8366881200000003|      3.203880155|       3.086445945|3.9069562500000004|  3.32|    0|\n",
      "|   1|0.8837657999999999|2.746638172|2.9860040769999996|3.140048623|3.1929539929999997|       3.711148182|       3.973581355|       4.250554977|4.775560729|       1.578942444|       2.271503954|       4.517937439|       4.902958025|3.843279334|       3.261222089|3.239131606|4.447122864000001|2.1061980300000003|4.218981514999999|       2.583179649|2.8944941070000003| 44.97|    0|\n",
      "|   2|       1.162124577|1.662025556|3.5961499079999997|4.601991081|       2.402587004|3.9491125670000002|4.2327235739999995|       2.774998387|3.363243979|       2.901943952|       2.595679038|       2.702912263| 5.380397091000001|1.478822257|       2.540504912|3.831901884|      5.834778555|4.4392212980000005|      4.180509214|       2.782405963|2.1776780550000003| 65.27|    0|\n",
      "|   3|       2.179465023|3.454476707|2.9932606789999996|3.936987047|       4.242600808|       4.083568156|3.2321981419999997|1.4466587359999998|3.274937995|       4.497815104|       2.778654709|4.6087540570000005|         3.0927527|3.520088189|2.0762056799999997|4.222540527|      3.919259133|2.8268087800000004|      4.851595044|1.9520972840000002|       3.339021633|156.49|    0|\n",
      "+----+------------------+-----------+------------------+-----------+------------------+------------------+------------------+------------------+-----------+------------------+------------------+------------------+------------------+-----------+------------------+-----------+-----------------+------------------+-----------------+------------------+------------------+------+-----+\n",
      "only showing top 4 rows\n",
      "\n"
     ]
    }
   ],
   "source": [
    "data = spark.read.csv(\"preprocessed_PCA.csv\", header=True, inferSchema=True)\n",
    "data.show(4)\n",
    "from pyspark.sql.functions import abs, col\n",
    "from pyspark.sql import functions as fn\n",
    "\n",
    "# calculate the minimum value for each column\n",
    "min_vals = data.agg(*[fn.min(c).alias(c) for c in data.columns])\n",
    "\n",
    "# get the absolute minimum value from the DataFrame\n",
    "abs_min = min_vals.select([fn.abs(fn.col(c)).alias(c) for c in min_vals.columns]).first()\n",
    "\n",
    "included_cols = [c for c in data.columns if c not in ['Amount', 'Class']]\n",
    "#df_shifted = data.select([col(c) + abs_min[c] for c in included_cols],col('Amount'), col('Class'))\n",
    "#df_shifted = data.select([col(c) + abs_min[c] for c in included_cols])\n",
    "df_shifted = data.select(\n",
    "     *[(col(c) + abs_min[c]).alias(c) if c in included_cols else col(c).alias(c) for c in data.columns]\n",
    " )\n",
    "\n",
    "\n",
    "# shift the data to make all values non-negative\n",
    "#df_shifted = data.select([col(c) + abs_min[c] for c in data.columns])\n",
    "df_shifted.show(4)"
   ]
  },
  {
   "cell_type": "code",
   "execution_count": 3,
   "id": "3eb5fdc9",
   "metadata": {},
   "outputs": [],
   "source": [
    "# Prepare data for training\n",
    "from pyspark.ml.feature import VectorAssembler\n",
    "assembler = VectorAssembler(inputCols=[\"PC1\", \"PC2\",\"PC3\",\"PC4\", \"PC5\",\"PC6\",\"PC7\", \"PC8\",\"PC9\",\"PC11\", \"PC11\",\"PC12\",\"PC13\",\"PC14\", \"PC15\",\"PC16\",\"PC17\", \"PC18\",\"PC19\",\"PC20\",\"PC21\",\"Amount\"], outputCol=\"features\")\n",
    "data_1 = assembler.transform(df_shifted).select(\"Class\", \"features\")\n"
   ]
  },
  {
   "cell_type": "code",
   "execution_count": 4,
   "id": "77e2326d",
   "metadata": {},
   "outputs": [
    {
     "name": "stdout",
     "output_type": "stream",
     "text": [
      "23/03/13 14:46:51 WARN package: Truncated the string representation of a plan since it was too large. This behavior can be adjusted by setting 'spark.sql.debug.maxToStringFields'.\n",
      "+-----+-------------------------------------------------------------------------------------------------------------------------------------------------------------------------------------------------------------------------------------------------------------------------------------------------------------------+\n",
      "|Class|features                                                                                                                                                                                                                                                                                                           |\n",
      "+-----+-------------------------------------------------------------------------------------------------------------------------------------------------------------------------------------------------------------------------------------------------------------------------------------------------------------------+\n",
      "|0    |[0.225320022,4.231796285,2.5467301709999997,5.361025796,3.984293922,3.8085226920000004,4.996401908,4.548422923,4.070952752,1.8136228760000002,1.8136228760000002,4.432562541,2.1157713030000003,5.491133026,2.511461822,4.377341066,2.932980445,3.8366881200000003,3.203880155,3.086445945,3.9069562500000004,3.32]|\n",
      "|0    |[0.8837657999999999,2.746638172,2.9860040769999996,3.140048623,3.1929539929999997,3.711148182,3.973581355,4.250554977,4.775560729,2.271503954,2.271503954,4.517937439,4.902958025,3.843279334,3.261222089,3.239131606,4.447122864000001,2.1061980300000003,4.218981514999999,2.583179649,2.8944941070000003,44.97] |\n",
      "+-----+-------------------------------------------------------------------------------------------------------------------------------------------------------------------------------------------------------------------------------------------------------------------------------------------------------------------+\n",
      "only showing top 2 rows\n",
      "\n",
      "+-----+-------------------------------------------------------------------------------------------------------------------------------------------------------------------------------------------------------------------------------------------------------------------------------------------------------------------+\n",
      "|label|features                                                                                                                                                                                                                                                                                                           |\n",
      "+-----+-------------------------------------------------------------------------------------------------------------------------------------------------------------------------------------------------------------------------------------------------------------------------------------------------------------------+\n",
      "|0    |[0.225320022,4.231796285,2.5467301709999997,5.361025796,3.984293922,3.8085226920000004,4.996401908,4.548422923,4.070952752,1.8136228760000002,1.8136228760000002,4.432562541,2.1157713030000003,5.491133026,2.511461822,4.377341066,2.932980445,3.8366881200000003,3.203880155,3.086445945,3.9069562500000004,3.32]|\n",
      "|0    |[0.8837657999999999,2.746638172,2.9860040769999996,3.140048623,3.1929539929999997,3.711148182,3.973581355,4.250554977,4.775560729,2.271503954,2.271503954,4.517937439,4.902958025,3.843279334,3.261222089,3.239131606,4.447122864000001,2.1061980300000003,4.218981514999999,2.583179649,2.8944941070000003,44.97] |\n",
      "+-----+-------------------------------------------------------------------------------------------------------------------------------------------------------------------------------------------------------------------------------------------------------------------------------------------------------------------+\n",
      "only showing top 2 rows\n",
      "\n"
     ]
    }
   ],
   "source": [
    "data_1.show(2,False)\n",
    "data2=data_1.withColumnRenamed(\"Class\",\"label\")\n",
    "data2.show(2,False)"
   ]
  },
  {
   "cell_type": "code",
   "execution_count": 5,
   "id": "485b8bf7",
   "metadata": {},
   "outputs": [],
   "source": [
    "(trainingData, testData) = data2.randomSplit([0.7, 0.3])\n"
   ]
  },
  {
   "cell_type": "code",
   "execution_count": 6,
   "id": "9639d30a",
   "metadata": {},
   "outputs": [
    {
     "name": "stdout",
     "output_type": "stream",
     "text": [
      "Start time: 2023-03-13 14:46:51.679690\n"
     ]
    },
    {
     "name": "stderr",
     "output_type": "stream",
     "text": [
      "                                                                                \r"
     ]
    },
    {
     "name": "stdout",
     "output_type": "stream",
     "text": [
      "End time: 2023-03-13 14:46:53.416547\n",
      "Duration: 1.7368566989898682 seconds\n"
     ]
    }
   ],
   "source": [
    "from pyspark.ml.feature import VectorAssembler, StandardScaler\n",
    "from pyspark.ml.classification import NaiveBayes\n",
    "\n",
    "# Create a VectorAssembler to combine the features into a single vector column\n",
    "\n",
    "# Use the assembler to transform the training data\n",
    "#trainingData = assembler.transform(trainingData)\n",
    "\n",
    "# Use a StandardScaler to standardize the features to have zero mean and unit variance\n",
    "#scaler = StandardScaler(inputCol=\"features\", outputCol=\"scaledFeatures\", withStd=True, withMean=True)\n",
    "#scalerModel = scaler.fit(trainingData)\n",
    "#trainingData = scalerModel.transform(trainingData)\n",
    "\n",
    "# Train a Naive Bayes model on the transformed data\n",
    "nb = NaiveBayes(labelCol=\"label\", featuresCol=\"features\")\n",
    "\n",
    "\n",
    "import pprint\n",
    "import time\n",
    "import datetime\n",
    "\n",
    "pp = pprint.PrettyPrinter(indent=4)\n",
    "# start time\n",
    "start_time = time.time()\n",
    "datetime_obj1 = datetime.datetime.fromtimestamp(start_time)\n",
    "print(f\"Start time: {datetime_obj1}\")\n",
    "\n",
    "\n",
    "model_nb = nb.fit(trainingData)\n",
    "\n",
    "# end time\n",
    "end_time = time.time()\n",
    "datetime_obj2 = datetime.datetime.fromtimestamp(end_time)\n",
    "\n",
    "# calculate the difference between start and end times in seconds\n",
    "duration = end_time - start_time\n",
    "\n",
    "# display the results\n",
    "print(f\"End time: {datetime_obj2}\")\n",
    "print(f\"Duration: {duration} seconds\")\n",
    "\n"
   ]
  },
  {
   "cell_type": "code",
   "execution_count": 7,
   "id": "52221f24",
   "metadata": {},
   "outputs": [
    {
     "name": "stdout",
     "output_type": "stream",
     "text": [
      "23/03/13 14:46:53 WARN InstanceBuilder$NativeBLAS: Failed to load implementation from:dev.ludovic.netlib.blas.JNIBLAS\n",
      "23/03/13 14:46:53 WARN InstanceBuilder$NativeBLAS: Failed to load implementation from:dev.ludovic.netlib.blas.ForeignLinkerBLAS\n"
     ]
    },
    {
     "name": "stderr",
     "output_type": "stream",
     "text": [
      "[Stage 12:====================================>                     (5 + 3) / 8]\r"
     ]
    },
    {
     "name": "stdout",
     "output_type": "stream",
     "text": [
      "Accuracy NaiveBayes: 0.8325496110963239\n"
     ]
    },
    {
     "name": "stderr",
     "output_type": "stream",
     "text": [
      "                                                                                \r"
     ]
    }
   ],
   "source": [
    "from pyspark.ml.evaluation import MulticlassClassificationEvaluator\n",
    "\n",
    "# Make predictions on the test data\n",
    "predictions_nb = model_nb.transform(testData)\n",
    "\n",
    "# Evaluate the accuracy of the model using the MulticlassClassificationEvaluator\n",
    "evaluator_nb = MulticlassClassificationEvaluator(metricName=\"accuracy\")\n",
    "accuracy_nb = evaluator_nb.evaluate(predictions_nb)\n",
    "\n",
    "# Print the accuracy of the model\n",
    "print(\"Accuracy NaiveBayes:\", accuracy_nb)"
   ]
  },
  {
   "cell_type": "code",
   "execution_count": 8,
   "id": "23204c4d",
   "metadata": {},
   "outputs": [
    {
     "name": "stdout",
     "output_type": "stream",
     "text": [
      "+-----+----------+---------+\n",
      "|label|prediction|frequency|\n",
      "+-----+----------+---------+\n",
      "|    0|       0.0|    21185|\n",
      "|    0|       1.0|     2435|\n",
      "|    1|       0.0|     3227|\n",
      "|    1|       1.0|     6966|\n",
      "+-----+----------+---------+\n",
      "\n"
     ]
    }
   ],
   "source": [
    "# Create a confusion matrix\n",
    "from pyspark.sql.functions import col\n",
    "\n",
    "confusion_matrix_nb = predictions_nb.groupBy(\"label\", \"prediction\") \\\n",
    "    .count() \\\n",
    "    .orderBy([\"label\", \"prediction\"]) \\\n",
    "    .select(\"label\", \"prediction\", col(\"count\").alias(\"frequency\"))\n",
    "\n",
    "# Display the confusion matrix\n",
    "confusion_matrix_nb.show()"
   ]
  },
  {
   "cell_type": "code",
   "execution_count": 9,
   "id": "6a31c502",
   "metadata": {},
   "outputs": [
    {
     "data": {
      "image/png": "[encoded data removed]",
      "text/plain": [
       "<Figure size 640x480 with 2 Axes>"
      ]
     },
     "metadata": {},
     "output_type": "display_data"
    }
   ],
   "source": [
    "import seaborn as sns\n",
    "import matplotlib.pyplot as plt\n",
    "# Convert the confusion matrix to a Pandas DataFrame\n",
    "pandas_df = confusion_matrix_nb.toPandas()\n",
    "\n",
    "# Create a pivot table to reshape the data for plotting\n",
    "pivot = pandas_df.pivot(index=\"label\", columns=\"prediction\", values=\"frequency\")\n",
    "\n",
    "# Create a heatmap plot of the confusion matrix\n",
    "sns.heatmap(pivot, annot=True, fmt=\"d\")\n",
    "\n",
    "# Set the plot title and axis labels\n",
    "plt.title(\"Spark Naive Bayes Confusion Matrix\")\n",
    "plt.xlabel(\"Predicted Label\")\n",
    "plt.ylabel(\"True Label\")\n",
    "\n",
    "# Show the plot\n",
    "plt.show()"
   ]
  },
  {
   "cell_type": "code",
   "execution_count": null,
   "id": "ed89ac28",
   "metadata": {},
   "outputs": [],
   "source": []
  }
 ],
 "metadata": {
  "kernelspec": {
   "display_name": "conda_python3",
   "language": "python",
   "name": "conda_python3"
  },
  "language_info": {
   "codemirror_mode": {
    "name": "ipython",
    "version": 3
   },
   "file_extension": ".py",
   "mimetype": "text/x-python",
   "name": "python",
   "nbconvert_exporter": "python",
   "pygments_lexer": "ipython3",
   "version": "3.10.8"
  }
 },
 "nbformat": 4,
 "nbformat_minor": 5
}
