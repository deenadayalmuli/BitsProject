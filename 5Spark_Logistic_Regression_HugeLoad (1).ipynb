{
 "cells": [
  {
   "cell_type": "code",
   "execution_count": 1,
   "id": "b74af823",
   "metadata": {},
   "outputs": [
    {
     "name": "stderr",
     "output_type": "stream",
     "text": [
      "Setting default log level to \"WARN\".\n",
      "To adjust logging level use sc.setLogLevel(newLevel). For SparkR, use setLogLevel(newLevel).\n"
     ]
    },
    {
     "name": "stdout",
     "output_type": "stream",
     "text": [
      "23/03/11 17:05:33 WARN NativeCodeLoader: Unable to load native-hadoop library for your platform... using builtin-java classes where applicable\n"
     ]
    }
   ],
   "source": [
    "#!pyspark --version\n",
    "from pyspark.sql import SparkSession\n",
    "spark = SparkSession.builder.getOrCreate()"
   ]
  },
  {
   "cell_type": "code",
   "execution_count": 2,
   "id": "3016e625",
   "metadata": {},
   "outputs": [],
   "source": [
    "from pyspark.ml.classification import LogisticRegression\n",
    "from pyspark.ml.evaluation import BinaryClassificationEvaluator\n",
    "from pyspark.ml.feature import VectorAssembler"
   ]
  },
  {
   "cell_type": "code",
   "execution_count": 3,
   "id": "f0394084",
   "metadata": {},
   "outputs": [
    {
     "name": "stderr",
     "output_type": "stream",
     "text": [
      "                                                                                \r"
     ]
    },
    {
     "name": "stdout",
     "output_type": "stream",
     "text": [
      "23/03/11 17:05:43 WARN package: Truncated the string representation of a plan since it was too large. This behavior can be adjusted by setting 'spark.sql.debug.maxToStringFields'.\n",
      "+-----+--------------------+\n",
      "|Class|            features|\n",
      "+-----+--------------------+\n",
      "|    0|[-1.093789312,1.7...|\n",
      "|    0|[-0.435343534,0.2...|\n",
      "|    0|[-0.156984757,-0....|\n",
      "|    0|[0.860355689,1.00...|\n",
      "|    1|[-0.981323376,-1....|\n",
      "+-----+--------------------+\n",
      "only showing top 5 rows\n",
      "\n",
      "+-----+--------------------+\n",
      "|label|            features|\n",
      "+-----+--------------------+\n",
      "|    0|[-1.093789312,1.7...|\n",
      "|    0|[-0.435343534,0.2...|\n",
      "+-----+--------------------+\n",
      "only showing top 2 rows\n",
      "\n"
     ]
    }
   ],
   "source": [
    "data = spark.read.csv(\"preprocessed_PCA.csv\", header=True, inferSchema=True)\n",
    "# Prepare data for training\n",
    "assembler = VectorAssembler(inputCols=[\"PC1\", \"PC2\",\"PC3\",\"PC4\", \"PC5\",\"PC6\",\"PC7\", \"PC8\",\"PC9\",\"PC11\", \"PC11\",\"PC12\",\"PC13\",\"PC14\", \"PC15\",\"PC16\",\"PC17\", \"PC18\",\"PC19\",\"PC20\",\"PC21\",\"Amount\"], outputCol=\"features\")\n",
    "data = assembler.transform(data).select(\"Class\", \"features\")\n",
    "data.show(5)\n",
    "data1=data.withColumnRenamed(\"Class\",\"label\")\n",
    "data1.show(2)"
   ]
  },
  {
   "cell_type": "code",
   "execution_count": 4,
   "id": "86b2e416",
   "metadata": {},
   "outputs": [
    {
     "name": "stdout",
     "output_type": "stream",
     "text": [
      "Start time: 2023-03-11 17:05:44.913837\n"
     ]
    },
    {
     "name": "stderr",
     "output_type": "stream",
     "text": [
      "                                                                                \r"
     ]
    },
    {
     "name": "stdout",
     "output_type": "stream",
     "text": [
      "23/03/11 17:05:48 WARN InstanceBuilder$NativeBLAS: Failed to load implementation from:dev.ludovic.netlib.blas.JNIBLAS\n",
      "23/03/11 17:05:48 WARN InstanceBuilder$NativeBLAS: Failed to load implementation from:dev.ludovic.netlib.blas.ForeignLinkerBLAS\n",
      "End time: 2023-03-11 17:05:50.555790\n",
      "Duration: 5.641952753067017 seconds\n"
     ]
    }
   ],
   "source": [
    "(trainingData, testData) = data1.randomSplit([0.7, 0.3])\n",
    "\n",
    "# Train a logistic regression model\n",
    "lr = LogisticRegression(maxIter=100, regParam=0.3, elasticNetParam=0.8)\n",
    "\n",
    "\n",
    "import time\n",
    "import datetime\n",
    "\n",
    "# start time\n",
    "start_time = time.time()\n",
    "datetime_obj1 = datetime.datetime.fromtimestamp(start_time)\n",
    "print(f\"Start time: {datetime_obj1}\")\n",
    "\n",
    " \n",
    "    \n",
    "lrModel = lr.fit(trainingData)\n",
    "# end time\n",
    "end_time = time.time()\n",
    "datetime_obj2 = datetime.datetime.fromtimestamp(end_time)\n",
    "\n",
    "# calculate the difference between start and end times in seconds\n",
    "duration = end_time - start_time\n",
    "\n",
    "# display the results\n",
    "print(f\"End time: {datetime_obj2}\")\n",
    "print(f\"Duration: {duration} seconds\")\n"
   ]
  },
  {
   "cell_type": "code",
   "execution_count": 5,
   "id": "cdd20942",
   "metadata": {},
   "outputs": [],
   "source": [
    "\n",
    "# Make predictions on test data\n",
    "predictions_lg = lrModel.transform(testData)\n"
   ]
  },
  {
   "cell_type": "code",
   "execution_count": 6,
   "id": "aca5b733",
   "metadata": {},
   "outputs": [
    {
     "name": "stderr",
     "output_type": "stream",
     "text": [
      "                                                                                \r"
     ]
    },
    {
     "name": "stdout",
     "output_type": "stream",
     "text": [
      "Accuracy LogisticRegression= 0.8988023379122934\n"
     ]
    }
   ],
   "source": [
    "\n",
    "# Evaluate the model\n",
    "evaluator = BinaryClassificationEvaluator(rawPredictionCol=\"rawPrediction\")\n",
    "areaUnderROC = evaluator.evaluate(predictions_lg)\n",
    "print(\"Accuracy LogisticRegression= {}\".format(areaUnderROC))"
   ]
  },
  {
   "cell_type": "code",
   "execution_count": 7,
   "id": "dadd83e9",
   "metadata": {},
   "outputs": [
    {
     "name": "stdout",
     "output_type": "stream",
     "text": [
      "+-----+----------+---------+\n",
      "|label|prediction|frequency|\n",
      "+-----+----------+---------+\n",
      "|    0|       0.0|    23487|\n",
      "|    1|       0.0|    10146|\n",
      "+-----+----------+---------+\n",
      "\n"
     ]
    }
   ],
   "source": [
    "# Create a confusion matrix\n",
    "from pyspark.sql.functions import col\n",
    "\n",
    "confusion_matrix_lg = predictions_lg.groupBy(\"label\", \"prediction\") \\\n",
    "    .count() \\\n",
    "    .orderBy([\"label\", \"prediction\"]) \\\n",
    "    .select(\"label\", \"prediction\", col(\"count\").alias(\"frequency\"))\n",
    "\n",
    "# Display the confusion matrix\n",
    "confusion_matrix_lg.show()"
   ]
  },
  {
   "cell_type": "code",
   "execution_count": 8,
   "id": "c088d8f8",
   "metadata": {},
   "outputs": [
    {
     "data": {
      "image/png": "[encoded data removed]",
      "text/plain": [
       "<Figure size 640x480 with 2 Axes>"
      ]
     },
     "metadata": {},
     "output_type": "display_data"
    }
   ],
   "source": [
    "import seaborn as sns\n",
    "import matplotlib.pyplot as plt\n",
    "# Convert the confusion matrix to a Pandas DataFrame\n",
    "pandas_df = confusion_matrix_lg.toPandas()\n",
    "\n",
    "# Create a pivot table to reshape the data for plotting\n",
    "pivot = pandas_df.pivot(index=\"label\", columns=\"prediction\", values=\"frequency\")\n",
    "\n",
    "# Create a heatmap plot of the confusion matrix\n",
    "sns.heatmap(pivot, annot=True, fmt=\"d\")\n",
    "\n",
    "# Set the plot title and axis labels\n",
    "plt.title(\"Spark Logistic Regression Tree Confusion Matrix\")\n",
    "plt.xlabel(\"Predicted Label\")\n",
    "plt.ylabel(\"True Label\")\n",
    "\n",
    "# Show the plot\n",
    "plt.show()"
   ]
  },
  {
   "cell_type": "code",
   "execution_count": 9,
   "id": "351713b4",
   "metadata": {},
   "outputs": [
    {
     "name": "stdout",
     "output_type": "stream",
     "text": [
      "Precision for class 0 = 0.698332\n"
     ]
    },
    {
     "ename": "ZeroDivisionError",
     "evalue": "division by zero",
     "output_type": "error",
     "traceback": [
      "\u001b[0;31m---------------------------------------------------------------------------\u001b[0m",
      "\u001b[0;31mZeroDivisionError\u001b[0m                         Traceback (most recent call last)",
      "Cell \u001b[0;32mIn[9], line 10\u001b[0m\n\u001b[1;32m      8\u001b[0m tp \u001b[38;5;241m=\u001b[39m predictions_lg\u001b[38;5;241m.\u001b[39mfilter(\u001b[38;5;124m\"\u001b[39m\u001b[38;5;124mlabel = 1 and prediction = 1\u001b[39m\u001b[38;5;124m\"\u001b[39m)\u001b[38;5;241m.\u001b[39mcount()\n\u001b[1;32m      9\u001b[0m fp \u001b[38;5;241m=\u001b[39m predictions_lg\u001b[38;5;241m.\u001b[39mfilter(\u001b[38;5;124m\"\u001b[39m\u001b[38;5;124mlabel = 0 and prediction = 1\u001b[39m\u001b[38;5;124m\"\u001b[39m)\u001b[38;5;241m.\u001b[39mcount()\n\u001b[0;32m---> 10\u001b[0m precision_1 \u001b[38;5;241m=\u001b[39m \u001b[43mtp\u001b[49m\u001b[43m \u001b[49m\u001b[38;5;241;43m/\u001b[39;49m\u001b[43m \u001b[49m\u001b[43m(\u001b[49m\u001b[43mtp\u001b[49m\u001b[43m \u001b[49m\u001b[38;5;241;43m+\u001b[39;49m\u001b[43m \u001b[49m\u001b[43mfp\u001b[49m\u001b[43m)\u001b[49m\n\u001b[1;32m     11\u001b[0m \u001b[38;5;28mprint\u001b[39m(\u001b[38;5;124m\"\u001b[39m\u001b[38;5;124mPrecision for class 1 = \u001b[39m\u001b[38;5;132;01m%g\u001b[39;00m\u001b[38;5;124m\"\u001b[39m \u001b[38;5;241m%\u001b[39m precision_1)\n",
      "\u001b[0;31mZeroDivisionError\u001b[0m: division by zero"
     ]
    }
   ],
   "source": [
    "# Compute the precision for class 0\n",
    "tp = predictions_lg.filter(\"label = 0 and prediction = 0\").count()\n",
    "fp = predictions_lg.filter(\"label = 1 and prediction = 0\").count()\n",
    "precision_0 = tp / (tp + fp)\n",
    "print(\"Precision for class 0 = %g\" % precision_0)\n",
    "\n",
    "# Compute the precision for class 1\n",
    "tp = predictions_lg.filter(\"label = 1 and prediction = 1\").count()\n",
    "fp = predictions_lg.filter(\"label = 0 and prediction = 1\").count()\n",
    "precision_1 = tp / (tp + fp)\n",
    "print(\"Precision for class 1 = %g\" % precision_1)"
   ]
  },
  {
   "cell_type": "code",
   "execution_count": null,
   "id": "9364806d",
   "metadata": {},
   "outputs": [],
   "source": []
  }
 ],
 "metadata": {
  "kernelspec": {
   "display_name": "conda_python3",
   "language": "python",
   "name": "conda_python3"
  },
  "language_info": {
   "codemirror_mode": {
    "name": "ipython",
    "version": 3
   },
   "file_extension": ".py",
   "mimetype": "text/x-python",
   "name": "python",
   "nbconvert_exporter": "python",
   "pygments_lexer": "ipython3",
   "version": "3.10.8"
  }
 },
 "nbformat": 4,
 "nbformat_minor": 5
}
