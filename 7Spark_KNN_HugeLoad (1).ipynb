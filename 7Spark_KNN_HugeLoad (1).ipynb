{
 "cells": [
  {
   "cell_type": "code",
   "execution_count": 1,
   "id": "92e60676",
   "metadata": {},
   "outputs": [
    {
     "ename": "ImportError",
     "evalue": "cannot import name 'KNNClassificationModel' from 'pyspark.ml.classification' (/home/ec2-user/anaconda3/envs/python3/lib/python3.10/site-packages/pyspark/ml/classification.py)",
     "output_type": "error",
     "traceback": [
      "\u001b[0;31m---------------------------------------------------------------------------\u001b[0m",
      "\u001b[0;31mImportError\u001b[0m                               Traceback (most recent call last)",
      "Cell \u001b[0;32mIn[1], line 1\u001b[0m\n\u001b[0;32m----> 1\u001b[0m \u001b[38;5;28;01mfrom\u001b[39;00m \u001b[38;5;21;01mpyspark\u001b[39;00m\u001b[38;5;21;01m.\u001b[39;00m\u001b[38;5;21;01mml\u001b[39;00m\u001b[38;5;21;01m.\u001b[39;00m\u001b[38;5;21;01mclassification\u001b[39;00m \u001b[38;5;28;01mimport\u001b[39;00m KNNClassificationModel\n\u001b[1;32m      2\u001b[0m \u001b[38;5;28mprint\u001b[39m(pyspark\u001b[38;5;241m.\u001b[39m__version__)\n",
      "\u001b[0;31mImportError\u001b[0m: cannot import name 'KNNClassificationModel' from 'pyspark.ml.classification' (/home/ec2-user/anaconda3/envs/python3/lib/python3.10/site-packages/pyspark/ml/classification.py)"
     ]
    }
   ],
   "source": [
    "from pyspark.ml.classification import KNNClassificationModel\n",
    "print(pyspark.__version__)\n"
   ]
  },
  {
   "cell_type": "code",
   "execution_count": 1,
   "id": "56e89b38",
   "metadata": {},
   "outputs": [
    {
     "ename": "ImportError",
     "evalue": "cannot import name 'KNNClassificationModel' from 'pyspark.ml.classification' (/home/ec2-user/anaconda3/envs/python3/lib/python3.10/site-packages/pyspark/ml/classification.py)",
     "output_type": "error",
     "traceback": [
      "\u001b[0;31m---------------------------------------------------------------------------\u001b[0m",
      "\u001b[0;31mImportError\u001b[0m                               Traceback (most recent call last)",
      "Cell \u001b[0;32mIn[1], line 1\u001b[0m\n\u001b[0;32m----> 1\u001b[0m \u001b[38;5;28;01mfrom\u001b[39;00m \u001b[38;5;21;01mpyspark\u001b[39;00m\u001b[38;5;21;01m.\u001b[39;00m\u001b[38;5;21;01mml\u001b[39;00m\u001b[38;5;21;01m.\u001b[39;00m\u001b[38;5;21;01mclassification\u001b[39;00m \u001b[38;5;28;01mimport\u001b[39;00m KNNClassificationModel, KNNClassifier\n\u001b[1;32m      2\u001b[0m \u001b[38;5;28;01mfrom\u001b[39;00m \u001b[38;5;21;01mpyspark\u001b[39;00m\u001b[38;5;21;01m.\u001b[39;00m\u001b[38;5;21;01mml\u001b[39;00m\u001b[38;5;21;01m.\u001b[39;00m\u001b[38;5;21;01mfeature\u001b[39;00m \u001b[38;5;28;01mimport\u001b[39;00m VectorAssembler, StringIndexer\n\u001b[1;32m      3\u001b[0m \u001b[38;5;28;01mfrom\u001b[39;00m \u001b[38;5;21;01mpyspark\u001b[39;00m\u001b[38;5;21;01m.\u001b[39;00m\u001b[38;5;21;01mml\u001b[39;00m\u001b[38;5;21;01m.\u001b[39;00m\u001b[38;5;21;01mevaluation\u001b[39;00m \u001b[38;5;28;01mimport\u001b[39;00m MulticlassClassificationEvaluator\n",
      "\u001b[0;31mImportError\u001b[0m: cannot import name 'KNNClassificationModel' from 'pyspark.ml.classification' (/home/ec2-user/anaconda3/envs/python3/lib/python3.10/site-packages/pyspark/ml/classification.py)"
     ]
    }
   ],
   "source": [
    "from pyspark.ml.classification import KNNClassificationModel, KNNClassifier\n",
    "from pyspark.ml.feature import VectorAssembler, StringIndexer\n",
    "from pyspark.ml.evaluation import MulticlassClassificationEvaluator"
   ]
  },
  {
   "cell_type": "code",
   "execution_count": 4,
   "id": "536e2b5c",
   "metadata": {},
   "outputs": [
    {
     "name": "stderr",
     "output_type": "stream",
     "text": [
      "Setting default log level to \"WARN\".\n",
      "To adjust logging level use sc.setLogLevel(newLevel). For SparkR, use setLogLevel(newLevel).\n"
     ]
    },
    {
     "name": "stdout",
     "output_type": "stream",
     "text": [
      "23/03/08 05:56:27 WARN NativeCodeLoader: Unable to load native-hadoop library for your platform... using builtin-java classes where applicable\n"
     ]
    },
    {
     "name": "stderr",
     "output_type": "stream",
     "text": [
      "                                                                                \r"
     ]
    }
   ],
   "source": [
    "# Load data\n",
    "#data = spark.read.csv(\"path/to/data.csv\", header=True, inferSchema=True)\n",
    "from pyspark.sql import SparkSession\n",
    "spark = SparkSession.builder.getOrCreate()\n",
    "data = spark.read.csv(\"preprocessed_PCA.csv\", header=True, inferSchema=True)\n"
   ]
  },
  {
   "cell_type": "code",
   "execution_count": 9,
   "id": "e74d9a63",
   "metadata": {},
   "outputs": [
    {
     "name": "stdout",
     "output_type": "stream",
     "text": [
      "3.3.0\n",
      "+----+------------+------------+------------+------------+------------+------------+------------+------------+------------+------------+------------+------------+------------+------------+------------+------------+------------+------------+------------+------------+------------+------+-----+\n",
      "|Time|         PC1|         PC2|         PC3|         PC4|         PC5|         PC6|         PC7|         PC8|         PC9|        PC10|        PC11|        PC12|        PC13|        PC14|        PC15|        PC16|        PC17|        PC18|        PC19|        PC20|        PC21|Amount|Class|\n",
      "+----+------------+------------+------------+------------+------------+------------+------------+------------+------------+------------+------------+------------+------------+------------+------------+------------+------------+------------+------------+------------+------------+------+-----+\n",
      "|   0|-1.093789312| 1.777731318|-0.812147507| 1.386259013| 0.093503784|-0.218078736| 1.355688242| 0.864874322| 0.327819299|-2.080175483|-1.570362866| 0.940485509|-1.532878668| 1.887418647|-1.155813395| 0.571798657|-0.855352695| 0.349938818|-0.654188918| 0.168111647| 0.888165713|  3.32|    0|\n",
      "|   1|-0.435343534| 0.292573205|-0.372873601| -0.83471816|-0.697836145|-0.315453246| 0.332867689| 0.567006376| 1.032427276| -1.82810733|-1.112481788| 1.025860407| 1.254308054| 0.239564955|-0.406053128|-0.566410803| 0.658789724|-1.380551272| 0.360912442|-0.335154649| -0.12429643| 44.97|    0|\n",
      "|   2|-0.156984757|-0.792039411|  0.23727223| 0.627224298|-1.488203134|-0.077488861| 0.592009908|-0.908550214|-0.379889474|-0.505105822|-0.788306704|-0.789164769|  1.73174712|-2.124892122|-1.126770305| 0.026359475| 2.046445415| 0.952471996| 0.322440141|-0.135928335|-0.841112482| 65.27|    0|\n",
      "|   3| 0.860355689|  1.00041174|-0.365616999|-0.037779736|  0.35181067| 0.056966728|-0.408515524|-2.236889865|-0.468195458|  1.09076533|-0.605331033| 1.116677025|-0.555897271| -0.08362619|-1.591069537| 0.416998118| 0.130925993|-0.659940522| 0.993525971|-0.966237014| 0.320231096|156.49|    0|\n",
      "+----+------------+------------+------------+------------+------------+------------+------------+------------+------------+------------+------------+------------+------------+------------+------------+------------+------------+------------+------------+------------+------------+------+-----+\n",
      "only showing top 4 rows\n",
      "\n"
     ]
    },
    {
     "ename": "ImportError",
     "evalue": "cannot import name 'KNNClassificationModel' from 'pyspark.ml.classification' (/home/ec2-user/anaconda3/envs/python3/lib/python3.10/site-packages/pyspark/ml/classification.py)",
     "output_type": "error",
     "traceback": [
      "\u001b[0;31m---------------------------------------------------------------------------\u001b[0m",
      "\u001b[0;31mImportError\u001b[0m                               Traceback (most recent call last)",
      "Cell \u001b[0;32mIn[9], line 5\u001b[0m\n\u001b[1;32m      3\u001b[0m \u001b[38;5;28mprint\u001b[39m(pyspark\u001b[38;5;241m.\u001b[39m__version__)\n\u001b[1;32m      4\u001b[0m data\u001b[38;5;241m.\u001b[39mshow(\u001b[38;5;241m4\u001b[39m)\n\u001b[0;32m----> 5\u001b[0m \u001b[38;5;28;01mfrom\u001b[39;00m \u001b[38;5;21;01mpyspark\u001b[39;00m\u001b[38;5;21;01m.\u001b[39;00m\u001b[38;5;21;01mml\u001b[39;00m\u001b[38;5;21;01m.\u001b[39;00m\u001b[38;5;21;01mclassification\u001b[39;00m \u001b[38;5;28;01mimport\u001b[39;00m KNNClassificationModel\n",
      "\u001b[0;31mImportError\u001b[0m: cannot import name 'KNNClassificationModel' from 'pyspark.ml.classification' (/home/ec2-user/anaconda3/envs/python3/lib/python3.10/site-packages/pyspark/ml/classification.py)"
     ]
    }
   ],
   "source": [
    "import pyspark\n",
    "\n",
    "print(pyspark.__version__)\n",
    "data.show(4)\n",
    "from pyspark.ml.classification import KNNClassificationModel\n"
   ]
  },
  {
   "cell_type": "code",
   "execution_count": null,
   "id": "6e978b4c",
   "metadata": {},
   "outputs": [],
   "source": [
    "\n",
    "\n",
    "\n",
    "# Convert categorical variable to numeric using StringIndexer\n",
    "indexer = StringIndexer(inputCol=\"Class\", outputCol=\"label\")\n",
    "data = indexer.fit(data).transform(data)\n"
   ]
  },
  {
   "cell_type": "code",
   "execution_count": null,
   "id": "5fcb55c1",
   "metadata": {},
   "outputs": [],
   "source": [
    "\n",
    "# Create a feature vector\n",
    "assembler = VectorAssembler(inputCols=[\"numeric_col1\", \"numeric_col2\", \"numeric_col3\"], outputCol=\"features\")\n",
    "data = assembler.transform(data)\n"
   ]
  },
  {
   "cell_type": "code",
   "execution_count": null,
   "id": "71b3905a",
   "metadata": {},
   "outputs": [],
   "source": [
    "\n",
    "# Split data into training and test sets\n",
    "train_data, test_data = data.randomSplit([0.7, 0.3], seed=123)\n",
    "\n",
    "# Train the KNN model\n",
    "k = 3\n",
    "knn = KNNClassifier(featuresCol=\"features\", labelCol=\"label\", k=k)\n",
    "model = knn.fit(train_data)\n",
    "\n",
    "# Make predictions on test data\n",
    "predictions = model.transform(test_data)\n",
    "\n",
    "# Evaluate model performance\n",
    "evaluator = MulticlassClassificationEvaluator(predictionCol=\"prediction\", labelCol=\"label\", metricName=\"accuracy\")\n",
    "accuracy = evaluator.evaluate(predictions)\n",
    "print(\"Accuracy: \", accuracy)"
   ]
  }
 ],
 "metadata": {
  "kernelspec": {
   "display_name": "conda_python3",
   "language": "python",
   "name": "conda_python3"
  },
  "language_info": {
   "codemirror_mode": {
    "name": "ipython",
    "version": 3
   },
   "file_extension": ".py",
   "mimetype": "text/x-python",
   "name": "python",
   "nbconvert_exporter": "python",
   "pygments_lexer": "ipython3",
   "version": "3.10.8"
  }
 },
 "nbformat": 4,
 "nbformat_minor": 5
}
