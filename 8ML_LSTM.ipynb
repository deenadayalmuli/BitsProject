{
 "cells": [
  {
   "cell_type": "code",
   "execution_count": 1,
   "metadata": {
    "colab": {
     "base_uri": "https://localhost:8080/"
    },
    "id": "TNexNR6GFovQ",
    "outputId": "a40ef7d2-355d-4ce2-a84f-1ddfb1bdd70c"
   },
   "outputs": [],
   "source": [
    "import pandas as pd\n",
    "import numpy as np\n",
    "\n"
   ]
  },
  {
   "cell_type": "code",
   "execution_count": 2,
   "metadata": {
    "colab": {
     "base_uri": "https://localhost:8080/"
    },
    "id": "cUuHhsO_N780",
    "outputId": "9388de65-5ccf-445e-872d-a126b676ffbe"
   },
   "outputs": [],
   "source": [
    "#!pip install keras\n",
    "#!pip install tensorflow\n",
    "#!pip install imblearn\n",
    "\n"
   ]
  },
  {
   "cell_type": "code",
   "execution_count": 17,
   "metadata": {
    "id": "o6GdNjXgOAxp"
   },
   "outputs": [
    {
     "name": "stderr",
     "output_type": "stream",
     "text": [
      "2023-03-11 21:58:09.314372: E tensorflow/compiler/xla/stream_executor/cuda/cuda_driver.cc:267] failed call to cuInit: CUDA_ERROR_NO_DEVICE: no CUDA-capable device is detected\n",
      "2023-03-11 21:58:09.314415: I tensorflow/compiler/xla/stream_executor/cuda/cuda_diagnostics.cc:156] kernel driver does not appear to be running on this host (ip-172-16-18-246.ec2.internal): /proc/driver/nvidia/version does not exist\n",
      "2023-03-11 21:58:09.314971: I tensorflow/core/platform/cpu_feature_guard.cc:193] This TensorFlow binary is optimized with oneAPI Deep Neural Network Library (oneDNN) to use the following CPU instructions in performance-critical operations:  AVX2 AVX512F FMA\n",
      "To enable them in other operations, rebuild TensorFlow with the appropriate compiler flags.\n"
     ]
    },
    {
     "ename": "ValueError",
     "evalue": "Exception encountered when calling layer 'lstm_cell' (type LSTMCell).\n\nShape must be at least rank 3 but is rank 2 for '{{node lstm/lstm_cell/BiasAdd}} = BiasAdd[T=DT_FLOAT, data_format=\"NCHW\"](lstm/lstm_cell/MatMul, lstm/lstm_cell/split_1)' with input shapes: [?,50], [50].\n\nCall arguments received by layer 'lstm_cell' (type LSTMCell):\n  • inputs=tf.Tensor(shape=(None, 9), dtype=float32)\n  • states=('tf.Tensor(shape=(None, 50), dtype=float32)', 'tf.Tensor(shape=(None, 50), dtype=float32)')\n  • training=None",
     "output_type": "error",
     "traceback": [
      "\u001b[0;31m---------------------------------------------------------------------------\u001b[0m",
      "\u001b[0;31mValueError\u001b[0m                                Traceback (most recent call last)",
      "Cell \u001b[0;32mIn[17], line 30\u001b[0m\n\u001b[1;32m     28\u001b[0m \u001b[38;5;66;03m# Define model\u001b[39;00m\n\u001b[1;32m     29\u001b[0m model \u001b[38;5;241m=\u001b[39m Sequential()\n\u001b[0;32m---> 30\u001b[0m \u001b[43mmodel\u001b[49m\u001b[38;5;241;43m.\u001b[39;49m\u001b[43madd\u001b[49m\u001b[43m(\u001b[49m\u001b[43mLSTM\u001b[49m\u001b[43m(\u001b[49m\u001b[38;5;241;43m50\u001b[39;49m\u001b[43m,\u001b[49m\u001b[43m \u001b[49m\u001b[43minput_shape\u001b[49m\u001b[38;5;241;43m=\u001b[39;49m\u001b[43m(\u001b[49m\u001b[43mtrain_LSTM_X\u001b[49m\u001b[38;5;241;43m.\u001b[39;49m\u001b[43mshape\u001b[49m\u001b[43m[\u001b[49m\u001b[38;5;241;43m1\u001b[39;49m\u001b[43m]\u001b[49m\u001b[43m,\u001b[49m\u001b[43m \u001b[49m\u001b[43mtrain_LSTM_X\u001b[49m\u001b[38;5;241;43m.\u001b[39;49m\u001b[43mshape\u001b[49m\u001b[43m[\u001b[49m\u001b[38;5;241;43m2\u001b[39;49m\u001b[43m]\u001b[49m\u001b[43m)\u001b[49m\u001b[43m,\u001b[49m\u001b[43m \u001b[49m\u001b[43mdropout\u001b[49m\u001b[38;5;241;43m=\u001b[39;49m\u001b[38;5;241;43m0.3\u001b[39;49m\u001b[43m,\u001b[49m\u001b[43m \u001b[49m\u001b[43mrecurrent_dropout\u001b[49m\u001b[38;5;241;43m=\u001b[39;49m\u001b[38;5;241;43m0.2\u001b[39;49m\u001b[43m)\u001b[49m\u001b[43m)\u001b[49m\n\u001b[1;32m     31\u001b[0m model\u001b[38;5;241m.\u001b[39madd(Dense(\u001b[38;5;241m1\u001b[39m, activation\u001b[38;5;241m=\u001b[39m\u001b[38;5;124m'\u001b[39m\u001b[38;5;124msigmoid\u001b[39m\u001b[38;5;124m'\u001b[39m))\n\u001b[1;32m     33\u001b[0m \u001b[38;5;66;03m# Compile model\u001b[39;00m\n",
      "File \u001b[0;32m~/anaconda3/envs/python3/lib/python3.10/site-packages/tensorflow/python/trackable/base.py:205\u001b[0m, in \u001b[0;36mno_automatic_dependency_tracking.<locals>._method_wrapper\u001b[0;34m(self, *args, **kwargs)\u001b[0m\n\u001b[1;32m    203\u001b[0m \u001b[38;5;28mself\u001b[39m\u001b[38;5;241m.\u001b[39m_self_setattr_tracking \u001b[38;5;241m=\u001b[39m \u001b[38;5;28;01mFalse\u001b[39;00m  \u001b[38;5;66;03m# pylint: disable=protected-access\u001b[39;00m\n\u001b[1;32m    204\u001b[0m \u001b[38;5;28;01mtry\u001b[39;00m:\n\u001b[0;32m--> 205\u001b[0m   result \u001b[38;5;241m=\u001b[39m \u001b[43mmethod\u001b[49m\u001b[43m(\u001b[49m\u001b[38;5;28;43mself\u001b[39;49m\u001b[43m,\u001b[49m\u001b[43m \u001b[49m\u001b[38;5;241;43m*\u001b[39;49m\u001b[43margs\u001b[49m\u001b[43m,\u001b[49m\u001b[43m \u001b[49m\u001b[38;5;241;43m*\u001b[39;49m\u001b[38;5;241;43m*\u001b[39;49m\u001b[43mkwargs\u001b[49m\u001b[43m)\u001b[49m\n\u001b[1;32m    206\u001b[0m \u001b[38;5;28;01mfinally\u001b[39;00m:\n\u001b[1;32m    207\u001b[0m   \u001b[38;5;28mself\u001b[39m\u001b[38;5;241m.\u001b[39m_self_setattr_tracking \u001b[38;5;241m=\u001b[39m previous_value  \u001b[38;5;66;03m# pylint: disable=protected-access\u001b[39;00m\n",
      "File \u001b[0;32m~/anaconda3/envs/python3/lib/python3.10/site-packages/keras/utils/traceback_utils.py:70\u001b[0m, in \u001b[0;36mfilter_traceback.<locals>.error_handler\u001b[0;34m(*args, **kwargs)\u001b[0m\n\u001b[1;32m     67\u001b[0m     filtered_tb \u001b[38;5;241m=\u001b[39m _process_traceback_frames(e\u001b[38;5;241m.\u001b[39m__traceback__)\n\u001b[1;32m     68\u001b[0m     \u001b[38;5;66;03m# To get the full stack trace, call:\u001b[39;00m\n\u001b[1;32m     69\u001b[0m     \u001b[38;5;66;03m# `tf.debugging.disable_traceback_filtering()`\u001b[39;00m\n\u001b[0;32m---> 70\u001b[0m     \u001b[38;5;28;01mraise\u001b[39;00m e\u001b[38;5;241m.\u001b[39mwith_traceback(filtered_tb) \u001b[38;5;28;01mfrom\u001b[39;00m \u001b[38;5;28mNone\u001b[39m\n\u001b[1;32m     71\u001b[0m \u001b[38;5;28;01mfinally\u001b[39;00m:\n\u001b[1;32m     72\u001b[0m     \u001b[38;5;28;01mdel\u001b[39;00m filtered_tb\n",
      "File \u001b[0;32m~/anaconda3/envs/python3/lib/python3.10/site-packages/keras/backend.py:6753\u001b[0m, in \u001b[0;36mbias_add\u001b[0;34m(x, bias, data_format)\u001b[0m\n\u001b[1;32m   6751\u001b[0m \u001b[38;5;28;01mif\u001b[39;00m \u001b[38;5;28mlen\u001b[39m(bias_shape) \u001b[38;5;241m==\u001b[39m \u001b[38;5;241m1\u001b[39m:\n\u001b[1;32m   6752\u001b[0m     \u001b[38;5;28;01mif\u001b[39;00m data_format \u001b[38;5;241m==\u001b[39m \u001b[38;5;124m\"\u001b[39m\u001b[38;5;124mchannels_first\u001b[39m\u001b[38;5;124m\"\u001b[39m:\n\u001b[0;32m-> 6753\u001b[0m         \u001b[38;5;28;01mreturn\u001b[39;00m \u001b[43mtf\u001b[49m\u001b[38;5;241;43m.\u001b[39;49m\u001b[43mnn\u001b[49m\u001b[38;5;241;43m.\u001b[39;49m\u001b[43mbias_add\u001b[49m\u001b[43m(\u001b[49m\u001b[43mx\u001b[49m\u001b[43m,\u001b[49m\u001b[43m \u001b[49m\u001b[43mbias\u001b[49m\u001b[43m,\u001b[49m\u001b[43m \u001b[49m\u001b[43mdata_format\u001b[49m\u001b[38;5;241;43m=\u001b[39;49m\u001b[38;5;124;43m\"\u001b[39;49m\u001b[38;5;124;43mNCHW\u001b[39;49m\u001b[38;5;124;43m\"\u001b[39;49m\u001b[43m)\u001b[49m\n\u001b[1;32m   6754\u001b[0m     \u001b[38;5;28;01mreturn\u001b[39;00m tf\u001b[38;5;241m.\u001b[39mnn\u001b[38;5;241m.\u001b[39mbias_add(x, bias, data_format\u001b[38;5;241m=\u001b[39m\u001b[38;5;124m\"\u001b[39m\u001b[38;5;124mNHWC\u001b[39m\u001b[38;5;124m\"\u001b[39m)\n\u001b[1;32m   6755\u001b[0m \u001b[38;5;28;01mif\u001b[39;00m ndim(x) \u001b[38;5;129;01min\u001b[39;00m (\u001b[38;5;241m3\u001b[39m, \u001b[38;5;241m4\u001b[39m, \u001b[38;5;241m5\u001b[39m):\n",
      "\u001b[0;31mValueError\u001b[0m: Exception encountered when calling layer 'lstm_cell' (type LSTMCell).\n\nShape must be at least rank 3 but is rank 2 for '{{node lstm/lstm_cell/BiasAdd}} = BiasAdd[T=DT_FLOAT, data_format=\"NCHW\"](lstm/lstm_cell/MatMul, lstm/lstm_cell/split_1)' with input shapes: [?,50], [50].\n\nCall arguments received by layer 'lstm_cell' (type LSTMCell):\n  • inputs=tf.Tensor(shape=(None, 9), dtype=float32)\n  • states=('tf.Tensor(shape=(None, 50), dtype=float32)', 'tf.Tensor(shape=(None, 50), dtype=float32)')\n  • training=None"
     ]
    }
   ],
   "source": [
    "import pandas as pd\n",
    "import numpy as np\n",
    "from sklearn.model_selection import train_test_split\n",
    "from keras.callbacks import EarlyStopping, ModelCheckpoint\n",
    "from keras.models import Sequential, load_model\n",
    "from keras.layers import LSTM, Dense\n",
    "\n",
    "# Load data\n",
    "data = pd.read_csv('creditcard_hugefraud.csv')\n",
    "col_del = ['Time' ,'PC1', 'PC2', 'PC3', 'PC4', 'PC5', 'PC6', 'PC7', 'PC8', 'PC9', 'PC10', 'PC11', 'PC12', 'PC13', 'PC14', 'PC15', 'PC16', 'PC17', 'PC18', 'PC19', 'Amount']\n",
    "tr_data = data.drop(col_del, axis=1)\n",
    "\n",
    "# Split data into input and labels\n",
    "X = tr_data.drop(['Class'], axis='columns')\n",
    "y = tr_data['Class']\n",
    "\n",
    "# Split data into train and test sets\n",
    "X_train, X_test, y_train, y_test = train_test_split(X, y, test_size=0.3)\n",
    "\n",
    "# Reshape input to be 3D [samples, timesteps, features] (required by LSTM)\n",
    "train_LSTM_X = X_train.values.reshape((X_train.shape[0], 1, X_train.shape[1]))\n",
    "val_LSTM_X = X_test.values.reshape((X_test.shape[0], 1, X_test.shape[1]))\n",
    "\n",
    "# Convert labels to categorical\n",
    "train_LSTM_y = np.array(y_train)\n",
    "val_LSTM_y = np.array(y_test)\n",
    "\n",
    "# Define model\n",
    "model = Sequential()\n",
    "model.add(LSTM(50, input_shape=(train_LSTM_X.shape[1], train_LSTM_X.shape[2]), dropout=0.3, recurrent_dropout=0.2))\n",
    "model.add(Dense(1, activation='sigmoid'))\n",
    "\n",
    "# Compile model\n",
    "model.compile(loss='binary_crossentropy', optimizer='adam', metrics=['accuracy'])\n",
    "\n",
    "# Define callbacks\n",
    "callbacks = [EarlyStopping(monitor='val_loss', patience=5),\n",
    "             ModelCheckpoint(filepath='best_model.h5', monitor='val_loss', save_best_only=True)]\n",
    "\n",
    "# Fit model\n",
    "history = model.fit(train_LSTM_X, train_LSTM_y, epochs=100, batch_size=20000, validation_data=(val_LSTM_X, val_LSTM_y), callbacks=callbacks)\n",
    "\n",
    "# Load best model\n",
    "model = load_model('best_model.h5')\n",
    "\n",
    "# Evaluate model on test set\n",
    "_, test_acc = model.evaluate(val_LSTM_X, val_LSTM_y, verbose=0)\n",
    "print('Test accuracy:', test_acc)\n",
    "\n",
    "# Predict probabilities for test set\n",
    "yhat_probs = model.predict(val_LSTM_X, verbose=0).round()\n",
    "\n",
    "# Calculate metrics\n",
    "accuracy = (yhat_probs == val_LSTM_y).mean()\n",
    "precision = (yhat_probs[yhat_probs == 1] == val_LSTM_y[yhat_probs == 1]).mean()\n",
    "recall = (yhat_probs[yhat_probs == 1] == val_LSTM_y[yhat_probs == 1]).sum() / val_LSTM_y.sum()\n",
    "f1 = 2 * precision * recall / (precision + recall)\n",
    "\n",
    "print('Accuracy:', accuracy)\n",
    "print('Precision:', precision)\n",
    "print('Recall:', recall)\n",
    "print('F1-score:', f1)"
   ]
  },
  {
   "cell_type": "code",
   "execution_count": null,
   "metadata": {},
   "outputs": [],
   "source": []
  },
  {
   "cell_type": "code",
   "execution_count": 2,
   "metadata": {
    "colab": {
     "base_uri": "https://localhost:8080/"
    },
    "id": "4-UtLGOqgARf",
    "outputId": "e3803289-0e90-4d6b-fe92-4c1718400840"
   },
   "outputs": [
    {
     "name": "stdout",
     "output_type": "stream",
     "text": [
      "2.11.0\n"
     ]
    }
   ],
   "source": [
    "from keras import layers\n",
    "import tensorflow as tf\n",
    "print(tf.__version__)"
   ]
  },
  {
   "cell_type": "code",
   "execution_count": 3,
   "metadata": {
    "colab": {
     "base_uri": "https://localhost:8080/",
     "height": 35
    },
    "id": "dKKljca9iTAa",
    "outputId": "058bd1d8-022e-4e91-ea21-4b28e39eaa8f"
   },
   "outputs": [
    {
     "data": {
      "text/plain": [
       "'2.11.0'"
      ]
     },
     "execution_count": 3,
     "metadata": {},
     "output_type": "execute_result"
    }
   ],
   "source": [
    "import keras as ks\n",
    "ks.__version__"
   ]
  },
  {
   "cell_type": "code",
   "execution_count": 4,
   "metadata": {
    "id": "AnE0q7CnOF9-"
   },
   "outputs": [],
   "source": [
    "data = pd.read_csv('creditcard_hugefraud.csv', na_filter=True)\n",
    "col_del = ['Time' ,'PC1', 'PC2', 'PC3', 'PC4', 'PC5','PC6','PC7', 'PC8',  'PC9', 'PC10', 'PC11','PC12', 'PC13', 'PC14', 'PC15', 'PC16', 'PC17', 'PC18', 'PC19', 'Amount']\n",
    "     \n"
   ]
  },
  {
   "cell_type": "code",
   "execution_count": 5,
   "metadata": {
    "colab": {
     "base_uri": "https://localhost:8080/"
    },
    "id": "seiwXUG6ONIe",
    "outputId": "7267f4d4-2a02-483d-addd-1268e94f2a16"
   },
   "outputs": [
    {
     "data": {
      "text/plain": [
       "(284807, 31)"
      ]
     },
     "execution_count": 5,
     "metadata": {},
     "output_type": "execute_result"
    }
   ],
   "source": [
    "data.shape\n"
   ]
  },
  {
   "cell_type": "code",
   "execution_count": 9,
   "metadata": {
    "colab": {
     "base_uri": "https://localhost:8080/"
    },
    "id": "ZUNCCQsjOT4c",
    "outputId": "6ffee2aa-b397-4e58-fa21-bd0b3381e71c"
   },
   "outputs": [
    {
     "data": {
      "text/plain": [
       "(284807, 10)"
      ]
     },
     "execution_count": 9,
     "metadata": {},
     "output_type": "execute_result"
    }
   ],
   "source": [
    "tr_data = data.drop(col_del,axis =1)\n",
    "\n",
    "tr_data.shape"
   ]
  },
  {
   "cell_type": "code",
   "execution_count": 7,
   "metadata": {
    "id": "FU8hYJafOYoB"
   },
   "outputs": [],
   "source": [
    "\n",
    "#X = tr_data.drop(['Class'], axis = 'columns')\n",
    "#Label_Data = tr_data['Class']"
   ]
  },
  {
   "cell_type": "code",
   "execution_count": 10,
   "metadata": {
    "colab": {
     "base_uri": "https://localhost:8080/"
    },
    "id": "-C_UKbKwOb8y",
    "outputId": "ec0db928-d980-4afe-e00a-b6cd5b47f318"
   },
   "outputs": [
    {
     "name": "stdout",
     "output_type": "stream",
     "text": [
      "Counter({0: 199251, 1: 85556})\n"
     ]
    }
   ],
   "source": [
    "# Generate and plot imbalanced classification dataset\n",
    "from collections import Counter\n",
    "from matplotlib import pyplot\n",
    "from numpy import where\n",
    "# summarize class distribution\n",
    "counter = Counter(tr_data['Class'])\n",
    "print(counter)\n",
    "# scatter plot of examples by class label\n",
    "for label, _ in counter.items():\n",
    "\trow_ix = where(tr_data['Class'] == label)[0]\n",
    "     "
   ]
  },
  {
   "cell_type": "code",
   "execution_count": 11,
   "metadata": {
    "colab": {
     "base_uri": "https://localhost:8080/"
    },
    "id": "vcnobSWFOfoa",
    "outputId": "dc934097-14d4-48ed-cc3b-da0b320c1130"
   },
   "outputs": [
    {
     "ename": "NameError",
     "evalue": "name 'X' is not defined",
     "output_type": "error",
     "traceback": [
      "\u001b[0;31m---------------------------------------------------------------------------\u001b[0m",
      "\u001b[0;31mNameError\u001b[0m                                 Traceback (most recent call last)",
      "Cell \u001b[0;32mIn[11], line 4\u001b[0m\n\u001b[1;32m      2\u001b[0m \u001b[38;5;28;01mfrom\u001b[39;00m \u001b[38;5;21;01mimblearn\u001b[39;00m\u001b[38;5;21;01m.\u001b[39;00m\u001b[38;5;21;01mover_sampling\u001b[39;00m \u001b[38;5;28;01mimport\u001b[39;00m SMOTE\n\u001b[1;32m      3\u001b[0m oversample \u001b[38;5;241m=\u001b[39m SMOTE()\n\u001b[0;32m----> 4\u001b[0m X_r, y \u001b[38;5;241m=\u001b[39m oversample\u001b[38;5;241m.\u001b[39mfit_resample(\u001b[43mX\u001b[49m, tr_data[\u001b[38;5;124m'\u001b[39m\u001b[38;5;124mClass\u001b[39m\u001b[38;5;124m'\u001b[39m])\n\u001b[1;32m      5\u001b[0m \u001b[38;5;66;03m# summarize the new class distribution\u001b[39;00m\n\u001b[1;32m      6\u001b[0m counter \u001b[38;5;241m=\u001b[39m Counter(y)\n",
      "\u001b[0;31mNameError\u001b[0m: name 'X' is not defined"
     ]
    }
   ],
   "source": [
    "\n",
    "# transform the dataset\n",
    "from imblearn.over_sampling import SMOTE\n",
    "oversample = SMOTE()\n",
    "X_r, y = oversample.fit_resample(X, tr_data['Class'])\n",
    "# summarize the new class distribution\n",
    "counter = Counter(y)\n",
    "print(counter)\n",
    "# scatter plot of examples by class label\n",
    "for label, _ in counter.items():\n",
    "\trow_ix = where(y == label)[0]\n",
    "     "
   ]
  },
  {
   "cell_type": "code",
   "execution_count": 12,
   "metadata": {
    "id": "EYt6Ri-lPFzh"
   },
   "outputs": [],
   "source": [
    "\n",
    "#from sklearn.preprocessing import StandardScaler\n",
    "## Standardizing the data\n",
    "#X_r2 = StandardScaler().fit_transform(X_r)"
   ]
  },
  {
   "cell_type": "code",
   "execution_count": 13,
   "metadata": {
    "id": "S-wOUZmhPJAA"
   },
   "outputs": [],
   "source": [
    "#X_train,X_test,y_train,y_test = train_test_split(X_r2, y, test_size=0.3)\n"
   ]
  },
  {
   "cell_type": "code",
   "execution_count": 14,
   "metadata": {
    "colab": {
     "base_uri": "https://localhost:8080/"
    },
    "id": "zHH4Q4rHPQA3",
    "outputId": "5013605d-a6ba-44f0-83d3-a07f1b8858e3"
   },
   "outputs": [
    {
     "data": {
      "text/plain": [
       "(278951, 9)"
      ]
     },
     "execution_count": 14,
     "metadata": {},
     "output_type": "execute_result"
    }
   ],
   "source": [
    "#X_train.shape\n"
   ]
  },
  {
   "cell_type": "code",
   "execution_count": 15,
   "metadata": {
    "colab": {
     "base_uri": "https://localhost:8080/"
    },
    "id": "cVQtRSimPSgW",
    "outputId": "db5c0b85-d3d9-44d2-dacc-3075b0a71b48"
   },
   "outputs": [
    {
     "data": {
      "text/plain": [
       "(119551, 9)"
      ]
     },
     "execution_count": 15,
     "metadata": {},
     "output_type": "execute_result"
    }
   ],
   "source": [
    "#X_test.shape\n"
   ]
  },
  {
   "cell_type": "code",
   "execution_count": 24,
   "metadata": {},
   "outputs": [
    {
     "ename": "ValueError",
     "evalue": "cannot reshape array of size 2510559 into shape (278951,1,1)",
     "output_type": "error",
     "traceback": [
      "\u001b[0;31m---------------------------------------------------------------------------\u001b[0m",
      "\u001b[0;31mValueError\u001b[0m                                Traceback (most recent call last)",
      "Cell \u001b[0;32mIn[24], line 5\u001b[0m\n\u001b[1;32m      2\u001b[0m \u001b[38;5;28;01mfrom\u001b[39;00m \u001b[38;5;21;01mkeras\u001b[39;00m\u001b[38;5;21;01m.\u001b[39;00m\u001b[38;5;21;01mlayers\u001b[39;00m \u001b[38;5;28;01mimport\u001b[39;00m LSTM, Dense\n\u001b[1;32m      4\u001b[0m \u001b[38;5;66;03m# Reshape input data to have an additional dimension representing the timesteps\u001b[39;00m\n\u001b[0;32m----> 5\u001b[0m train_X \u001b[38;5;241m=\u001b[39m \u001b[43mtrain_LSTM_X\u001b[49m\u001b[38;5;241;43m.\u001b[39;49m\u001b[43mreshape\u001b[49m\u001b[43m(\u001b[49m\u001b[43m(\u001b[49m\u001b[43mtrain_LSTM_X\u001b[49m\u001b[38;5;241;43m.\u001b[39;49m\u001b[43mshape\u001b[49m\u001b[43m[\u001b[49m\u001b[38;5;241;43m0\u001b[39;49m\u001b[43m]\u001b[49m\u001b[43m,\u001b[49m\u001b[43m \u001b[49m\u001b[38;5;241;43m1\u001b[39;49m\u001b[43m,\u001b[49m\u001b[43m \u001b[49m\u001b[43mtrain_LSTM_X\u001b[49m\u001b[38;5;241;43m.\u001b[39;49m\u001b[43mshape\u001b[49m\u001b[43m[\u001b[49m\u001b[38;5;241;43m1\u001b[39;49m\u001b[43m]\u001b[49m\u001b[43m)\u001b[49m\u001b[43m)\u001b[49m\n\u001b[1;32m      6\u001b[0m val_X \u001b[38;5;241m=\u001b[39m val_LSTM_X\u001b[38;5;241m.\u001b[39mreshape((val_LSTM_X\u001b[38;5;241m.\u001b[39mshape[\u001b[38;5;241m0\u001b[39m], \u001b[38;5;241m1\u001b[39m, val_LSTM_X\u001b[38;5;241m.\u001b[39mshape[\u001b[38;5;241m1\u001b[39m]))\n\u001b[1;32m      8\u001b[0m \u001b[38;5;66;03m# Reshape output data to match the new input shape\u001b[39;00m\n",
      "\u001b[0;31mValueError\u001b[0m: cannot reshape array of size 2510559 into shape (278951,1,1)"
     ]
    }
   ],
   "source": [
    "X = data[:,0:8]\n",
    "y = data[:,8]\n",
    "\n",
    "train_size = int(len(X) * 0.67)\n",
    "X_train, X_test = X[0:train_size,:], X[train_size:len(X),:]\n",
    "y_train, y_test = y[0:train_size], y[train_size:len(y)]\n",
    "\n",
    "# Reshape input data to have an additional dimension representing the timesteps\n",
    "n_timesteps = 10\n",
    "train_LSTM_X = np.reshape(X_train, (X_train.shape[0], n_timesteps, X_train.shape[1]))\n",
    "val_LSTM_X = np.reshape(X_test, (X_test.shape[0], n_timesteps, X_test.shape[1]))\n",
    "\n",
    "# Reshape output data to match the new input shape\n",
    "train_LSTM_y = y_train.reshape((y_train.shape[0], 1))\n",
    "val_LSTM_y = y_test.reshape((y_test.shape[0], 1))\n",
    "\n",
    "# Define the LSTM model\n",
    "inputs = Input(shape=(n_timesteps, X_train.shape[1]))\n",
    "x1 = LSTM(50, dropout=0.3, recurrent_dropout=0.2)(inputs)\n",
    "outputs = Dense(1, activation='sigmoid')(x1)\n",
    "model = Model(inputs=inputs, outputs=outputs)\n",
    "model.compile(loss='binary_crossentropy', optimizer='adam', metrics=['accuracy'])\n",
    "\n",
    "# Train the LSTM model\n",
    "model.fit(train_LSTM_X, train_LSTM_y, validation_data=(val_LSTM_X, val_LSTM_y), epochs=10, batch_size=64)"
   ]
  },
  {
   "cell_type": "code",
   "execution_count": 21,
   "metadata": {
    "id": "xONKDp6WPUW1"
   },
   "outputs": [
    {
     "ename": "ValueError",
     "evalue": "Exception encountered when calling layer 'lstm_cell_1' (type LSTMCell).\n\nShape must be at least rank 3 but is rank 2 for '{{node lstm_1/lstm_cell_1/BiasAdd}} = BiasAdd[T=DT_FLOAT, data_format=\"NCHW\"](lstm_1/lstm_cell_1/MatMul, lstm_1/lstm_cell_1/split_1)' with input shapes: [?,50], [50].\n\nCall arguments received by layer 'lstm_cell_1' (type LSTMCell):\n  • inputs=tf.Tensor(shape=(None, 9), dtype=float32)\n  • states=('tf.Tensor(shape=(None, 50), dtype=float32)', 'tf.Tensor(shape=(None, 50), dtype=float32)')\n  • training=None",
     "output_type": "error",
     "traceback": [
      "\u001b[0;31m---------------------------------------------------------------------------\u001b[0m",
      "\u001b[0;31mValueError\u001b[0m                                Traceback (most recent call last)",
      "Cell \u001b[0;32mIn[21], line 17\u001b[0m\n\u001b[1;32m     15\u001b[0m inputs\u001b[38;5;241m=\u001b[39mInput((\u001b[38;5;241m1\u001b[39m,\u001b[38;5;241m9\u001b[39m))\n\u001b[1;32m     16\u001b[0m inputs\n\u001b[0;32m---> 17\u001b[0m x1\u001b[38;5;241m=\u001b[39m\u001b[43mLSTM\u001b[49m\u001b[43m(\u001b[49m\u001b[38;5;241;43m50\u001b[39;49m\u001b[43m,\u001b[49m\u001b[43mdropout\u001b[49m\u001b[38;5;241;43m=\u001b[39;49m\u001b[38;5;241;43m0.3\u001b[39;49m\u001b[43m,\u001b[49m\u001b[43mrecurrent_dropout\u001b[49m\u001b[38;5;241;43m=\u001b[39;49m\u001b[38;5;241;43m0.2\u001b[39;49m\u001b[43m)\u001b[49m\u001b[43m(\u001b[49m\u001b[43minputs\u001b[49m\u001b[43m)\u001b[49m\n",
      "File \u001b[0;32m~/anaconda3/envs/python3/lib/python3.10/site-packages/keras/layers/rnn/base_rnn.py:556\u001b[0m, in \u001b[0;36mRNN.__call__\u001b[0;34m(self, inputs, initial_state, constants, **kwargs)\u001b[0m\n\u001b[1;32m    551\u001b[0m inputs, initial_state, constants \u001b[38;5;241m=\u001b[39m rnn_utils\u001b[38;5;241m.\u001b[39mstandardize_args(\n\u001b[1;32m    552\u001b[0m     inputs, initial_state, constants, \u001b[38;5;28mself\u001b[39m\u001b[38;5;241m.\u001b[39m_num_constants\n\u001b[1;32m    553\u001b[0m )\n\u001b[1;32m    555\u001b[0m \u001b[38;5;28;01mif\u001b[39;00m initial_state \u001b[38;5;129;01mis\u001b[39;00m \u001b[38;5;28;01mNone\u001b[39;00m \u001b[38;5;129;01mand\u001b[39;00m constants \u001b[38;5;129;01mis\u001b[39;00m \u001b[38;5;28;01mNone\u001b[39;00m:\n\u001b[0;32m--> 556\u001b[0m     \u001b[38;5;28;01mreturn\u001b[39;00m \u001b[38;5;28;43msuper\u001b[39;49m\u001b[43m(\u001b[49m\u001b[43m)\u001b[49m\u001b[38;5;241;43m.\u001b[39;49m\u001b[38;5;21;43m__call__\u001b[39;49m\u001b[43m(\u001b[49m\u001b[43minputs\u001b[49m\u001b[43m,\u001b[49m\u001b[43m \u001b[49m\u001b[38;5;241;43m*\u001b[39;49m\u001b[38;5;241;43m*\u001b[39;49m\u001b[43mkwargs\u001b[49m\u001b[43m)\u001b[49m\n\u001b[1;32m    558\u001b[0m \u001b[38;5;66;03m# If any of `initial_state` or `constants` are specified and are Keras\u001b[39;00m\n\u001b[1;32m    559\u001b[0m \u001b[38;5;66;03m# tensors, then add them to the inputs and temporarily modify the\u001b[39;00m\n\u001b[1;32m    560\u001b[0m \u001b[38;5;66;03m# input_spec to include them.\u001b[39;00m\n\u001b[1;32m    562\u001b[0m additional_inputs \u001b[38;5;241m=\u001b[39m []\n",
      "File \u001b[0;32m~/anaconda3/envs/python3/lib/python3.10/site-packages/keras/utils/traceback_utils.py:70\u001b[0m, in \u001b[0;36mfilter_traceback.<locals>.error_handler\u001b[0;34m(*args, **kwargs)\u001b[0m\n\u001b[1;32m     67\u001b[0m     filtered_tb \u001b[38;5;241m=\u001b[39m _process_traceback_frames(e\u001b[38;5;241m.\u001b[39m__traceback__)\n\u001b[1;32m     68\u001b[0m     \u001b[38;5;66;03m# To get the full stack trace, call:\u001b[39;00m\n\u001b[1;32m     69\u001b[0m     \u001b[38;5;66;03m# `tf.debugging.disable_traceback_filtering()`\u001b[39;00m\n\u001b[0;32m---> 70\u001b[0m     \u001b[38;5;28;01mraise\u001b[39;00m e\u001b[38;5;241m.\u001b[39mwith_traceback(filtered_tb) \u001b[38;5;28;01mfrom\u001b[39;00m \u001b[38;5;28mNone\u001b[39m\n\u001b[1;32m     71\u001b[0m \u001b[38;5;28;01mfinally\u001b[39;00m:\n\u001b[1;32m     72\u001b[0m     \u001b[38;5;28;01mdel\u001b[39;00m filtered_tb\n",
      "File \u001b[0;32m~/anaconda3/envs/python3/lib/python3.10/site-packages/keras/backend.py:6753\u001b[0m, in \u001b[0;36mbias_add\u001b[0;34m(x, bias, data_format)\u001b[0m\n\u001b[1;32m   6751\u001b[0m \u001b[38;5;28;01mif\u001b[39;00m \u001b[38;5;28mlen\u001b[39m(bias_shape) \u001b[38;5;241m==\u001b[39m \u001b[38;5;241m1\u001b[39m:\n\u001b[1;32m   6752\u001b[0m     \u001b[38;5;28;01mif\u001b[39;00m data_format \u001b[38;5;241m==\u001b[39m \u001b[38;5;124m\"\u001b[39m\u001b[38;5;124mchannels_first\u001b[39m\u001b[38;5;124m\"\u001b[39m:\n\u001b[0;32m-> 6753\u001b[0m         \u001b[38;5;28;01mreturn\u001b[39;00m \u001b[43mtf\u001b[49m\u001b[38;5;241;43m.\u001b[39;49m\u001b[43mnn\u001b[49m\u001b[38;5;241;43m.\u001b[39;49m\u001b[43mbias_add\u001b[49m\u001b[43m(\u001b[49m\u001b[43mx\u001b[49m\u001b[43m,\u001b[49m\u001b[43m \u001b[49m\u001b[43mbias\u001b[49m\u001b[43m,\u001b[49m\u001b[43m \u001b[49m\u001b[43mdata_format\u001b[49m\u001b[38;5;241;43m=\u001b[39;49m\u001b[38;5;124;43m\"\u001b[39;49m\u001b[38;5;124;43mNCHW\u001b[39;49m\u001b[38;5;124;43m\"\u001b[39;49m\u001b[43m)\u001b[49m\n\u001b[1;32m   6754\u001b[0m     \u001b[38;5;28;01mreturn\u001b[39;00m tf\u001b[38;5;241m.\u001b[39mnn\u001b[38;5;241m.\u001b[39mbias_add(x, bias, data_format\u001b[38;5;241m=\u001b[39m\u001b[38;5;124m\"\u001b[39m\u001b[38;5;124mNHWC\u001b[39m\u001b[38;5;124m\"\u001b[39m)\n\u001b[1;32m   6755\u001b[0m \u001b[38;5;28;01mif\u001b[39;00m ndim(x) \u001b[38;5;129;01min\u001b[39;00m (\u001b[38;5;241m3\u001b[39m, \u001b[38;5;241m4\u001b[39m, \u001b[38;5;241m5\u001b[39m):\n",
      "\u001b[0;31mValueError\u001b[0m: Exception encountered when calling layer 'lstm_cell_1' (type LSTMCell).\n\nShape must be at least rank 3 but is rank 2 for '{{node lstm_1/lstm_cell_1/BiasAdd}} = BiasAdd[T=DT_FLOAT, data_format=\"NCHW\"](lstm_1/lstm_cell_1/MatMul, lstm_1/lstm_cell_1/split_1)' with input shapes: [?,50], [50].\n\nCall arguments received by layer 'lstm_cell_1' (type LSTMCell):\n  • inputs=tf.Tensor(shape=(None, 9), dtype=float32)\n  • states=('tf.Tensor(shape=(None, 50), dtype=float32)', 'tf.Tensor(shape=(None, 50), dtype=float32)')\n  • training=None"
     ]
    }
   ],
   "source": [
    "# design network\n",
    "np.random.seed(7)\n",
    "\n",
    "# X_train et X_val sont des dataframe qui contient les features\n",
    "train_LSTM_X=X_train\n",
    "val_LSTM_X=X_test\n",
    "\n",
    "## Reshape input to be 3D [samples, timesteps, features] (format requis par LSTM)\n",
    "train_LSTM_X = train_LSTM_X.reshape((train_LSTM_X.shape[0], 1, train_LSTM_X.shape[1]))\n",
    "val_LSTM_X = val_LSTM_X.reshape((val_LSTM_X.shape[0], 1, val_LSTM_X.shape[1]))\n",
    "\n",
    "\n",
    "\n",
    "\n",
    "## Recuperation des labels\n",
    "train_LSTM_y=y_train\n",
    "val_LSTM_y=y_test\n",
    "inputs=Input((1,9))\n",
    "inputs\n",
    "x1=LSTM(50,dropout=0.3,recurrent_dropout=0.2)(inputs)\n"
   ]
  },
  {
   "cell_type": "code",
   "execution_count": 19,
   "metadata": {
    "colab": {
     "base_uri": "https://localhost:8080/"
    },
    "id": "Z7Mp9bREPWlF",
    "outputId": "c3bdd962-b002-4da6-d4fc-a9ed05e2537e"
   },
   "outputs": [
    {
     "data": {
      "text/plain": [
       "<KerasTensor: shape=(None, 1, 9) dtype=float32 (created by layer 'input_3')>"
      ]
     },
     "execution_count": 19,
     "metadata": {},
     "output_type": "execute_result"
    }
   ],
   "source": [
    "inputs=Input((1,9))\n",
    "inputs"
   ]
  },
  {
   "cell_type": "code",
   "execution_count": 20,
   "metadata": {},
   "outputs": [
    {
     "ename": "NameError",
     "evalue": "name 'input_data' is not defined",
     "output_type": "error",
     "traceback": [
      "\u001b[0;31m---------------------------------------------------------------------------\u001b[0m",
      "\u001b[0;31mNameError\u001b[0m                                 Traceback (most recent call last)",
      "Cell \u001b[0;32mIn[20], line 1\u001b[0m\n\u001b[0;32m----> 1\u001b[0m reshaped_input \u001b[38;5;241m=\u001b[39m np\u001b[38;5;241m.\u001b[39mreshape(\u001b[43minput_data\u001b[49m, (batch_size, sequence_length, input_dim))\n\u001b[1;32m      3\u001b[0m x1\u001b[38;5;241m=\u001b[39mLSTM(\u001b[38;5;241m50\u001b[39m,dropout\u001b[38;5;241m=\u001b[39m\u001b[38;5;241m0.3\u001b[39m,recurrent_dropout\u001b[38;5;241m=\u001b[39m\u001b[38;5;241m0.2\u001b[39m)(inputs)\n\u001b[1;32m      4\u001b[0m x1\n",
      "\u001b[0;31mNameError\u001b[0m: name 'input_data' is not defined"
     ]
    }
   ],
   "source": [
    "reshaped_input = np.reshape(input_data, (batch_size, sequence_length, input_dim))\n",
    "\n",
    "x1=LSTM(50,dropout=0.3,recurrent_dropout=0.2)(inputs)\n",
    "x1"
   ]
  },
  {
   "cell_type": "code",
   "execution_count": null,
   "metadata": {
    "id": "swFAv2CGPeGT"
   },
   "outputs": [],
   "source": [
    "x2=LSTM(50,dropout=0.3,recurrent_dropout=0.2)(inputs)\n"
   ]
  },
  {
   "cell_type": "code",
   "execution_count": null,
   "metadata": {
    "id": "i8JtpyXgQC-S"
   },
   "outputs": [],
   "source": [
    "outputs=Dense(1,activation='sigmoid')(x2)\n",
    "model=Model(inputs,outputs)"
   ]
  },
  {
   "cell_type": "code",
   "execution_count": null,
   "metadata": {
    "id": "bmZ1l9LEUXao"
   },
   "outputs": [],
   "source": [
    "model.compile(loss='binary_crossentropy', optimizer='adam', metrics=['accuracy'])\n"
   ]
  },
  {
   "cell_type": "code",
   "execution_count": null,
   "metadata": {
    "colab": {
     "base_uri": "https://localhost:8080/"
    },
    "id": "_8bx94ot1Gu8",
    "outputId": "57180f6c-b32e-4e3c-c10d-0835a71b524b"
   },
   "outputs": [
    {
     "name": "stdout",
     "output_type": "stream",
     "text": [
      "Epoch 1/100\n",
      "20/20 [==============================] - 6s 172ms/step - loss: 0.6887 - accuracy: 0.5597 - val_loss: 0.6779 - val_accuracy: 0.6238\n",
      "Epoch 2/100\n",
      "20/20 [==============================] - 3s 158ms/step - loss: 0.6709 - accuracy: 0.6426 - val_loss: 0.6588 - val_accuracy: 0.6591\n",
      "Epoch 3/100\n",
      "20/20 [==============================] - 3s 155ms/step - loss: 0.6529 - accuracy: 0.6693 - val_loss: 0.6379 - val_accuracy: 0.6872\n",
      "Epoch 4/100\n",
      "20/20 [==============================] - 3s 157ms/step - loss: 0.6333 - accuracy: 0.6890 - val_loss: 0.6152 - val_accuracy: 0.7157\n",
      "Epoch 5/100\n",
      "20/20 [==============================] - 3s 165ms/step - loss: 0.6127 - accuracy: 0.7076 - val_loss: 0.5915 - val_accuracy: 0.7367\n",
      "Epoch 6/100\n",
      "20/20 [==============================] - 3s 149ms/step - loss: 0.5917 - accuracy: 0.7244 - val_loss: 0.5681 - val_accuracy: 0.7563\n",
      "Epoch 7/100\n",
      "20/20 [==============================] - 3s 161ms/step - loss: 0.5715 - accuracy: 0.7396 - val_loss: 0.5458 - val_accuracy: 0.7668\n",
      "Epoch 8/100\n",
      "20/20 [==============================] - 4s 182ms/step - loss: 0.5529 - accuracy: 0.7525 - val_loss: 0.5248 - val_accuracy: 0.7806\n",
      "Epoch 9/100\n",
      "20/20 [==============================] - 3s 159ms/step - loss: 0.5361 - accuracy: 0.7635 - val_loss: 0.5055 - val_accuracy: 0.7922\n",
      "Epoch 10/100\n",
      "20/20 [==============================] - 3s 164ms/step - loss: 0.5201 - accuracy: 0.7730 - val_loss: 0.4879 - val_accuracy: 0.8011\n",
      "Epoch 11/100\n",
      "20/20 [==============================] - 3s 162ms/step - loss: 0.5069 - accuracy: 0.7806 - val_loss: 0.4723 - val_accuracy: 0.8108\n",
      "Epoch 12/100\n",
      "20/20 [==============================] - 3s 156ms/step - loss: 0.4951 - accuracy: 0.7860 - val_loss: 0.4585 - val_accuracy: 0.8169\n",
      "Epoch 13/100\n",
      "20/20 [==============================] - 3s 165ms/step - loss: 0.4846 - accuracy: 0.7920 - val_loss: 0.4464 - val_accuracy: 0.8224\n",
      "Epoch 14/100\n",
      "20/20 [==============================] - 3s 169ms/step - loss: 0.4748 - accuracy: 0.7968 - val_loss: 0.4357 - val_accuracy: 0.8274\n",
      "Epoch 15/100\n",
      "20/20 [==============================] - 3s 168ms/step - loss: 0.4669 - accuracy: 0.8008 - val_loss: 0.4264 - val_accuracy: 0.8334\n",
      "Epoch 16/100\n",
      "20/20 [==============================] - 3s 169ms/step - loss: 0.4598 - accuracy: 0.8038 - val_loss: 0.4182 - val_accuracy: 0.8364\n",
      "Epoch 17/100\n",
      "20/20 [==============================] - 3s 156ms/step - loss: 0.4526 - accuracy: 0.8080 - val_loss: 0.4108 - val_accuracy: 0.8386\n",
      "Epoch 18/100\n",
      "20/20 [==============================] - 3s 151ms/step - loss: 0.4471 - accuracy: 0.8104 - val_loss: 0.4043 - val_accuracy: 0.8414\n",
      "Epoch 19/100\n",
      "20/20 [==============================] - 3s 156ms/step - loss: 0.4407 - accuracy: 0.8128 - val_loss: 0.3984 - val_accuracy: 0.8441\n",
      "Epoch 20/100\n",
      "20/20 [==============================] - 3s 166ms/step - loss: 0.4361 - accuracy: 0.8157 - val_loss: 0.3929 - val_accuracy: 0.8466\n",
      "Epoch 21/100\n",
      "20/20 [==============================] - 3s 159ms/step - loss: 0.4315 - accuracy: 0.8175 - val_loss: 0.3881 - val_accuracy: 0.8481\n",
      "Epoch 22/100\n",
      "20/20 [==============================] - 3s 142ms/step - loss: 0.4270 - accuracy: 0.8200 - val_loss: 0.3835 - val_accuracy: 0.8499\n",
      "Epoch 23/100\n",
      "20/20 [==============================] - 3s 155ms/step - loss: 0.4219 - accuracy: 0.8219 - val_loss: 0.3792 - val_accuracy: 0.8512\n",
      "Epoch 24/100\n",
      "20/20 [==============================] - 3s 149ms/step - loss: 0.4184 - accuracy: 0.8229 - val_loss: 0.3751 - val_accuracy: 0.8525\n",
      "Epoch 25/100\n",
      "20/20 [==============================] - 5s 263ms/step - loss: 0.4150 - accuracy: 0.8250 - val_loss: 0.3714 - val_accuracy: 0.8540\n",
      "Epoch 26/100\n",
      "20/20 [==============================] - 3s 162ms/step - loss: 0.4113 - accuracy: 0.8265 - val_loss: 0.3680 - val_accuracy: 0.8551\n",
      "Epoch 27/100\n",
      "20/20 [==============================] - 3s 146ms/step - loss: 0.4085 - accuracy: 0.8277 - val_loss: 0.3647 - val_accuracy: 0.8559\n",
      "Epoch 28/100\n",
      "20/20 [==============================] - 3s 147ms/step - loss: 0.4057 - accuracy: 0.8290 - val_loss: 0.3615 - val_accuracy: 0.8565\n",
      "Epoch 29/100\n",
      "20/20 [==============================] - 3s 149ms/step - loss: 0.4021 - accuracy: 0.8312 - val_loss: 0.3586 - val_accuracy: 0.8571\n",
      "Epoch 30/100\n",
      "20/20 [==============================] - 3s 154ms/step - loss: 0.3998 - accuracy: 0.8321 - val_loss: 0.3557 - val_accuracy: 0.8581\n",
      "Epoch 31/100\n",
      "20/20 [==============================] - 3s 164ms/step - loss: 0.3966 - accuracy: 0.8336 - val_loss: 0.3529 - val_accuracy: 0.8589\n",
      "Epoch 32/100\n",
      "20/20 [==============================] - 3s 153ms/step - loss: 0.3937 - accuracy: 0.8349 - val_loss: 0.3502 - val_accuracy: 0.8593\n",
      "Epoch 33/100\n",
      "20/20 [==============================] - 3s 158ms/step - loss: 0.3916 - accuracy: 0.8355 - val_loss: 0.3477 - val_accuracy: 0.8600\n",
      "Epoch 34/100\n",
      "20/20 [==============================] - 3s 149ms/step - loss: 0.3888 - accuracy: 0.8366 - val_loss: 0.3452 - val_accuracy: 0.8608\n",
      "Epoch 35/100\n",
      "20/20 [==============================] - 3s 157ms/step - loss: 0.3865 - accuracy: 0.8380 - val_loss: 0.3426 - val_accuracy: 0.8618\n",
      "Epoch 36/100\n",
      "20/20 [==============================] - 3s 159ms/step - loss: 0.3841 - accuracy: 0.8389 - val_loss: 0.3403 - val_accuracy: 0.8625\n",
      "Epoch 37/100\n",
      "20/20 [==============================] - 3s 172ms/step - loss: 0.3819 - accuracy: 0.8398 - val_loss: 0.3380 - val_accuracy: 0.8633\n",
      "Epoch 38/100\n",
      "20/20 [==============================] - 3s 162ms/step - loss: 0.3786 - accuracy: 0.8411 - val_loss: 0.3356 - val_accuracy: 0.8644\n",
      "Epoch 39/100\n",
      "20/20 [==============================] - 3s 157ms/step - loss: 0.3777 - accuracy: 0.8421 - val_loss: 0.3334 - val_accuracy: 0.8652\n",
      "Epoch 40/100\n",
      "20/20 [==============================] - 3s 148ms/step - loss: 0.3756 - accuracy: 0.8427 - val_loss: 0.3311 - val_accuracy: 0.8660\n",
      "Epoch 41/100\n",
      "20/20 [==============================] - 3s 161ms/step - loss: 0.3735 - accuracy: 0.8437 - val_loss: 0.3291 - val_accuracy: 0.8665\n",
      "Epoch 42/100\n",
      "20/20 [==============================] - 3s 162ms/step - loss: 0.3716 - accuracy: 0.8447 - val_loss: 0.3271 - val_accuracy: 0.8671\n",
      "Epoch 43/100\n",
      "20/20 [==============================] - 3s 164ms/step - loss: 0.3695 - accuracy: 0.8452 - val_loss: 0.3248 - val_accuracy: 0.8676\n",
      "Epoch 44/100\n",
      "20/20 [==============================] - 3s 164ms/step - loss: 0.3676 - accuracy: 0.8464 - val_loss: 0.3229 - val_accuracy: 0.8685\n",
      "Epoch 45/100\n",
      "20/20 [==============================] - 3s 171ms/step - loss: 0.3660 - accuracy: 0.8468 - val_loss: 0.3211 - val_accuracy: 0.8692\n",
      "Epoch 46/100\n",
      "20/20 [==============================] - 3s 171ms/step - loss: 0.3637 - accuracy: 0.8478 - val_loss: 0.3191 - val_accuracy: 0.8695\n",
      "Epoch 47/100\n",
      "20/20 [==============================] - 3s 170ms/step - loss: 0.3619 - accuracy: 0.8486 - val_loss: 0.3172 - val_accuracy: 0.8702\n",
      "Epoch 48/100\n",
      "20/20 [==============================] - 3s 163ms/step - loss: 0.3610 - accuracy: 0.8491 - val_loss: 0.3153 - val_accuracy: 0.8709\n",
      "Epoch 49/100\n",
      "20/20 [==============================] - 3s 163ms/step - loss: 0.3577 - accuracy: 0.8511 - val_loss: 0.3136 - val_accuracy: 0.8714\n",
      "Epoch 50/100\n",
      "20/20 [==============================] - 3s 155ms/step - loss: 0.3567 - accuracy: 0.8516 - val_loss: 0.3116 - val_accuracy: 0.8722\n",
      "Epoch 51/100\n",
      "20/20 [==============================] - 3s 161ms/step - loss: 0.3553 - accuracy: 0.8521 - val_loss: 0.3099 - val_accuracy: 0.8729\n",
      "Epoch 52/100\n",
      "20/20 [==============================] - 3s 161ms/step - loss: 0.3532 - accuracy: 0.8532 - val_loss: 0.3082 - val_accuracy: 0.8732\n",
      "Epoch 53/100\n",
      "20/20 [==============================] - 4s 216ms/step - loss: 0.3518 - accuracy: 0.8534 - val_loss: 0.3064 - val_accuracy: 0.8738\n",
      "Epoch 54/100\n",
      "20/20 [==============================] - 5s 244ms/step - loss: 0.3504 - accuracy: 0.8543 - val_loss: 0.3049 - val_accuracy: 0.8743\n",
      "Epoch 55/100\n",
      "20/20 [==============================] - 3s 174ms/step - loss: 0.3488 - accuracy: 0.8551 - val_loss: 0.3031 - val_accuracy: 0.8746\n",
      "Epoch 56/100\n",
      "20/20 [==============================] - 3s 162ms/step - loss: 0.3471 - accuracy: 0.8550 - val_loss: 0.3016 - val_accuracy: 0.8755\n",
      "Epoch 57/100\n",
      "20/20 [==============================] - 3s 169ms/step - loss: 0.3451 - accuracy: 0.8561 - val_loss: 0.2998 - val_accuracy: 0.8761\n",
      "Epoch 58/100\n",
      "20/20 [==============================] - 3s 170ms/step - loss: 0.3441 - accuracy: 0.8566 - val_loss: 0.2983 - val_accuracy: 0.8765\n",
      "Epoch 59/100\n",
      "20/20 [==============================] - 3s 171ms/step - loss: 0.3425 - accuracy: 0.8578 - val_loss: 0.2967 - val_accuracy: 0.8773\n",
      "Epoch 60/100\n",
      "20/20 [==============================] - 3s 169ms/step - loss: 0.3409 - accuracy: 0.8579 - val_loss: 0.2953 - val_accuracy: 0.8777\n",
      "Epoch 61/100\n",
      "20/20 [==============================] - 3s 172ms/step - loss: 0.3390 - accuracy: 0.8588 - val_loss: 0.2937 - val_accuracy: 0.8786\n",
      "Epoch 62/100\n",
      "20/20 [==============================] - 3s 173ms/step - loss: 0.3384 - accuracy: 0.8588 - val_loss: 0.2923 - val_accuracy: 0.8790\n",
      "Epoch 63/100\n",
      "20/20 [==============================] - 3s 172ms/step - loss: 0.3363 - accuracy: 0.8602 - val_loss: 0.2909 - val_accuracy: 0.8799\n",
      "Epoch 64/100\n",
      "20/20 [==============================] - 3s 173ms/step - loss: 0.3354 - accuracy: 0.8598 - val_loss: 0.2890 - val_accuracy: 0.8804\n",
      "Epoch 65/100\n",
      "20/20 [==============================] - 3s 169ms/step - loss: 0.3333 - accuracy: 0.8614 - val_loss: 0.2876 - val_accuracy: 0.8811\n",
      "Epoch 66/100\n",
      "20/20 [==============================] - 3s 162ms/step - loss: 0.3313 - accuracy: 0.8622 - val_loss: 0.2861 - val_accuracy: 0.8816\n",
      "Epoch 67/100\n",
      "20/20 [==============================] - 3s 169ms/step - loss: 0.3311 - accuracy: 0.8626 - val_loss: 0.2849 - val_accuracy: 0.8819\n",
      "Epoch 68/100\n",
      "20/20 [==============================] - 3s 166ms/step - loss: 0.3298 - accuracy: 0.8633 - val_loss: 0.2833 - val_accuracy: 0.8823\n",
      "Epoch 69/100\n",
      "20/20 [==============================] - 3s 170ms/step - loss: 0.3284 - accuracy: 0.8640 - val_loss: 0.2820 - val_accuracy: 0.8829\n",
      "Epoch 70/100\n",
      "20/20 [==============================] - 3s 175ms/step - loss: 0.3272 - accuracy: 0.8636 - val_loss: 0.2806 - val_accuracy: 0.8834\n",
      "Epoch 71/100\n",
      "20/20 [==============================] - 4s 177ms/step - loss: 0.3256 - accuracy: 0.8647 - val_loss: 0.2792 - val_accuracy: 0.8842\n",
      "Epoch 72/100\n",
      "20/20 [==============================] - 3s 171ms/step - loss: 0.3249 - accuracy: 0.8653 - val_loss: 0.2778 - val_accuracy: 0.8847\n",
      "Epoch 73/100\n",
      "20/20 [==============================] - 3s 169ms/step - loss: 0.3238 - accuracy: 0.8656 - val_loss: 0.2764 - val_accuracy: 0.8855\n",
      "Epoch 74/100\n",
      "20/20 [==============================] - 3s 164ms/step - loss: 0.3220 - accuracy: 0.8669 - val_loss: 0.2749 - val_accuracy: 0.8858\n",
      "Epoch 75/100\n",
      "20/20 [==============================] - 3s 170ms/step - loss: 0.3204 - accuracy: 0.8675 - val_loss: 0.2736 - val_accuracy: 0.8863\n",
      "Epoch 76/100\n",
      "20/20 [==============================] - 3s 171ms/step - loss: 0.3197 - accuracy: 0.8679 - val_loss: 0.2727 - val_accuracy: 0.8870\n",
      "Epoch 77/100\n",
      "20/20 [==============================] - 3s 166ms/step - loss: 0.3186 - accuracy: 0.8682 - val_loss: 0.2711 - val_accuracy: 0.8875\n",
      "Epoch 78/100\n",
      "20/20 [==============================] - 3s 166ms/step - loss: 0.3174 - accuracy: 0.8685 - val_loss: 0.2700 - val_accuracy: 0.8880\n",
      "Epoch 79/100\n",
      "20/20 [==============================] - 3s 174ms/step - loss: 0.3166 - accuracy: 0.8688 - val_loss: 0.2684 - val_accuracy: 0.8888\n",
      "Epoch 80/100\n",
      "20/20 [==============================] - 3s 173ms/step - loss: 0.3150 - accuracy: 0.8693 - val_loss: 0.2674 - val_accuracy: 0.8892\n",
      "Epoch 81/100\n",
      "20/20 [==============================] - 3s 170ms/step - loss: 0.3139 - accuracy: 0.8702 - val_loss: 0.2660 - val_accuracy: 0.8895\n",
      "Epoch 82/100\n",
      "20/20 [==============================] - 3s 172ms/step - loss: 0.3123 - accuracy: 0.8708 - val_loss: 0.2647 - val_accuracy: 0.8902\n",
      "Epoch 83/100\n",
      "20/20 [==============================] - 3s 174ms/step - loss: 0.3112 - accuracy: 0.8712 - val_loss: 0.2635 - val_accuracy: 0.8907\n",
      "Epoch 84/100\n",
      "20/20 [==============================] - 3s 174ms/step - loss: 0.3105 - accuracy: 0.8713 - val_loss: 0.2623 - val_accuracy: 0.8911\n",
      "Epoch 85/100\n",
      "20/20 [==============================] - 4s 178ms/step - loss: 0.3087 - accuracy: 0.8722 - val_loss: 0.2612 - val_accuracy: 0.8916\n",
      "Epoch 86/100\n",
      "20/20 [==============================] - 3s 174ms/step - loss: 0.3088 - accuracy: 0.8727 - val_loss: 0.2598 - val_accuracy: 0.8920\n",
      "Epoch 87/100\n",
      "20/20 [==============================] - 4s 176ms/step - loss: 0.3084 - accuracy: 0.8726 - val_loss: 0.2587 - val_accuracy: 0.8928\n",
      "Epoch 88/100\n",
      "20/20 [==============================] - 4s 176ms/step - loss: 0.3062 - accuracy: 0.8730 - val_loss: 0.2577 - val_accuracy: 0.8934\n",
      "Epoch 89/100\n",
      "20/20 [==============================] - 4s 177ms/step - loss: 0.3053 - accuracy: 0.8739 - val_loss: 0.2565 - val_accuracy: 0.8937\n",
      "Epoch 90/100\n",
      "20/20 [==============================] - 3s 169ms/step - loss: 0.3052 - accuracy: 0.8745 - val_loss: 0.2557 - val_accuracy: 0.8948\n",
      "Epoch 91/100\n",
      "20/20 [==============================] - 3s 175ms/step - loss: 0.3041 - accuracy: 0.8749 - val_loss: 0.2547 - val_accuracy: 0.8955\n",
      "Epoch 92/100\n",
      "20/20 [==============================] - 3s 164ms/step - loss: 0.3030 - accuracy: 0.8749 - val_loss: 0.2534 - val_accuracy: 0.8958\n",
      "Epoch 93/100\n",
      "20/20 [==============================] - 3s 173ms/step - loss: 0.3022 - accuracy: 0.8758 - val_loss: 0.2521 - val_accuracy: 0.8962\n",
      "Epoch 94/100\n",
      "20/20 [==============================] - 3s 176ms/step - loss: 0.3012 - accuracy: 0.8759 - val_loss: 0.2511 - val_accuracy: 0.8971\n",
      "Epoch 95/100\n",
      "20/20 [==============================] - 3s 168ms/step - loss: 0.3004 - accuracy: 0.8759 - val_loss: 0.2503 - val_accuracy: 0.8978\n",
      "Epoch 96/100\n",
      "20/20 [==============================] - 3s 172ms/step - loss: 0.2979 - accuracy: 0.8773 - val_loss: 0.2489 - val_accuracy: 0.8982\n",
      "Epoch 97/100\n",
      "20/20 [==============================] - 3s 168ms/step - loss: 0.2979 - accuracy: 0.8774 - val_loss: 0.2478 - val_accuracy: 0.8992\n",
      "Epoch 98/100\n",
      "20/20 [==============================] - 3s 172ms/step - loss: 0.2973 - accuracy: 0.8774 - val_loss: 0.2470 - val_accuracy: 0.8991\n",
      "Epoch 99/100\n",
      "20/20 [==============================] - 3s 156ms/step - loss: 0.2958 - accuracy: 0.8782 - val_loss: 0.2461 - val_accuracy: 0.8999\n",
      "Epoch 100/100\n",
      "20/20 [==============================] - 3s 168ms/step - loss: 0.2956 - accuracy: 0.8786 - val_loss: 0.2451 - val_accuracy: 0.9002\n"
     ]
    }
   ],
   "source": [
    "history=model.fit(train_LSTM_X, train_LSTM_y,epochs=100,batch_size=20000, validation_data=(val_LSTM_X, val_LSTM_y))\n"
   ]
  },
  {
   "cell_type": "code",
   "execution_count": null,
   "metadata": {
    "colab": {
     "base_uri": "https://localhost:8080/"
    },
    "id": "4pVQETFZ1y9q",
    "outputId": "d614bb31-53d6-4bd7-9481-0c0407c57b24"
   },
   "outputs": [
    {
     "name": "stdout",
     "output_type": "stream",
     "text": [
      "Model: \"model_1\"\n",
      "_________________________________________________________________\n",
      " Layer (type)                Output Shape              Param #   \n",
      "=================================================================\n",
      " input_4 (InputLayer)        [(None, 1, 9)]            0         \n",
      "                                                                 \n",
      " lstm_11 (LSTM)              (None, 50)                12000     \n",
      "                                                                 \n",
      " dense_2 (Dense)             (None, 1)                 51        \n",
      "                                                                 \n",
      "=================================================================\n",
      "Total params: 12,051\n",
      "Trainable params: 12,051\n",
      "Non-trainable params: 0\n",
      "_________________________________________________________________\n"
     ]
    }
   ],
   "source": [
    "\n",
    "# load and evaluate a saved model\n",
    "from numpy import loadtxt\n",
    "from keras.models import load_model\n",
    " \n",
    "# load model\n",
    "model = load_model('Save_Model.h5')\n",
    "# summarize model.\n",
    "model.summary()"
   ]
  },
  {
   "cell_type": "code",
   "execution_count": null,
   "metadata": {
    "colab": {
     "base_uri": "https://localhost:8080/"
    },
    "id": "UCO-sv5E1I2L",
    "outputId": "e85aaa2f-5bbd-4bd3-c1c8-4c9b3b5cb7c1"
   },
   "outputs": [
    {
     "name": "stdout",
     "output_type": "stream",
     "text": [
      "Saved model to disk\n"
     ]
    }
   ],
   "source": [
    "     \n",
    "\n",
    "# save model and architecture to single file\n",
    "model.save('Save_Model.h5')\n",
    "print(\"Saved model to disk\")"
   ]
  },
  {
   "cell_type": "code",
   "execution_count": null,
   "metadata": {
    "colab": {
     "base_uri": "https://localhost:8080/"
    },
    "id": "lXt7DHv8110w",
    "outputId": "246d5424-a96b-48b5-c7de-bbf47e880a81"
   },
   "outputs": [
    {
     "name": "stdout",
     "output_type": "stream",
     "text": [
      "Train: 0.472, Test: 0.472\n"
     ]
    }
   ],
   "source": [
    "\n",
    "# evaluate the model\n",
    "_, train_acc = model.evaluate(train_LSTM_X, train_LSTM_y, verbose=0)\n",
    "_, test_acc = model.evaluate(val_LSTM_X, val_LSTM_y, verbose=0)\n",
    "print('Train: %.3f, Test: %.3f' % (train_acc, test_acc))"
   ]
  },
  {
   "cell_type": "code",
   "execution_count": null,
   "metadata": {
    "colab": {
     "base_uri": "https://localhost:8080/",
     "height": 281
    },
    "id": "UpK6KmcJ16fh",
    "outputId": "42f20fff-b58a-4cb5-fe76-949b5edde79f"
   },
   "outputs": [
    {
     "data": {
      "image/png": "[encoded data removed]",
      "text/plain": [
       "<Figure size 432x288 with 2 Axes>"
      ]
     },
     "metadata": {
      "needs_background": "light"
     },
     "output_type": "display_data"
    }
   ],
   "source": [
    "# plot loss during training\n",
    "pyplot.subplot(211)\n",
    "pyplot.title('Loss')\n",
    "pyplot.plot(history.history['loss'], label='train')\n",
    "pyplot.plot(history.history['val_loss'], label='test')\n",
    "pyplot.legend()\n",
    "# plot accuracy during training\n",
    "pyplot.subplot(212)\n",
    "pyplot.title('Accuracy')\n",
    "pyplot.plot(history.history['accuracy'], label='train')\n",
    "pyplot.plot(history.history['val_accuracy'], label='test')\n",
    "pyplot.legend()\n",
    "pyplot.show()"
   ]
  },
  {
   "cell_type": "code",
   "execution_count": null,
   "metadata": {
    "colab": {
     "base_uri": "https://localhost:8080/"
    },
    "id": "eGIQ3HdT19Vk",
    "outputId": "150b012c-f456-458e-db1c-28e6a88c7bea"
   },
   "outputs": [
    {
     "data": {
      "text/plain": [
       "array([1., 1., 0., ..., 1., 1., 1.], dtype=float32)"
      ]
     },
     "execution_count": 26,
     "metadata": {},
     "output_type": "execute_result"
    }
   ],
   "source": [
    "\n",
    "# predict probabilities for test set\n",
    "yhat_probs = model.predict(val_LSTM_X, verbose=0).round()\n",
    "# reduce to 1d array\n",
    "yhat_probs = yhat_probs[:, 0]\n",
    "yhat_probs"
   ]
  },
  {
   "cell_type": "code",
   "execution_count": null,
   "metadata": {
    "colab": {
     "base_uri": "https://localhost:8080/"
    },
    "id": "cmg7Pb548-Ip",
    "outputId": "9791ac64-22a5-460c-d4e0-d1769b028769"
   },
   "outputs": [
    {
     "data": {
      "text/plain": [
       "170589"
      ]
     },
     "execution_count": 27,
     "metadata": {},
     "output_type": "execute_result"
    }
   ],
   "source": [
    "len(yhat_probs)"
   ]
  },
  {
   "cell_type": "code",
   "execution_count": null,
   "metadata": {
    "colab": {
     "base_uri": "https://localhost:8080/"
    },
    "id": "2XLfgEf79fUD",
    "outputId": "b8e877e3-db57-49a5-fe0d-53b10a2c9d0b"
   },
   "outputs": [
    {
     "data": {
      "text/plain": [
       "numpy.ndarray"
      ]
     },
     "execution_count": 28,
     "metadata": {},
     "output_type": "execute_result"
    }
   ],
   "source": [
    "type(yhat_probs)"
   ]
  },
  {
   "cell_type": "code",
   "execution_count": null,
   "metadata": {
    "colab": {
     "base_uri": "https://localhost:8080/"
    },
    "id": "3QHSNL4-7IL9",
    "outputId": "ff9303aa-2ada-4ffd-9183-cf960908cfcf"
   },
   "outputs": [
    {
     "data": {
      "text/plain": [
       "numpy.ndarray"
      ]
     },
     "execution_count": 29,
     "metadata": {},
     "output_type": "execute_result"
    }
   ],
   "source": [
    "type(val_LSTM_y.values)"
   ]
  },
  {
   "cell_type": "code",
   "execution_count": null,
   "metadata": {
    "colab": {
     "base_uri": "https://localhost:8080/"
    },
    "id": "XMM4mm2a8oZ2",
    "outputId": "f0c87965-24c2-4849-8647-c4cf872cf591"
   },
   "outputs": [
    {
     "data": {
      "text/plain": [
       "array([0, 1, 0, ..., 0, 1, 1])"
      ]
     },
     "execution_count": 30,
     "metadata": {},
     "output_type": "execute_result"
    }
   ],
   "source": [
    "val_LSTM_y.values\n"
   ]
  },
  {
   "cell_type": "code",
   "execution_count": null,
   "metadata": {
    "colab": {
     "base_uri": "https://localhost:8080/"
    },
    "id": "EpZeHJ6T83MB",
    "outputId": "65782bce-cb99-444c-c286-046e06aa9ec9"
   },
   "outputs": [
    {
     "data": {
      "text/plain": [
       "170589"
      ]
     },
     "execution_count": 31,
     "metadata": {},
     "output_type": "execute_result"
    }
   ],
   "source": [
    "len(val_LSTM_y)"
   ]
  },
  {
   "cell_type": "code",
   "execution_count": null,
   "metadata": {
    "colab": {
     "base_uri": "https://localhost:8080/"
    },
    "id": "tCAzbCky1_3B",
    "outputId": "935bf1bd-1c2b-4bca-f9c3-e1d6d8d96a29"
   },
   "outputs": [
    {
     "name": "stdout",
     "output_type": "stream",
     "text": [
      "Accuracy: 0.472369\n",
      "Precision: 0.484182\n",
      "Recall: 0.845456\n"
     ]
    }
   ],
   "source": [
    "\n",
    "# demonstration of calculating metrics for a neural network model using sklearn\n",
    "from sklearn.metrics import accuracy_score\n",
    "from sklearn.metrics import precision_score\n",
    "from sklearn.metrics import recall_score\n",
    "from sklearn.metrics import confusion_matrix\n",
    "\n",
    "# accuracy: (tp + tn) / (p + n)\n",
    "\n",
    "accuracy = accuracy_score(val_LSTM_y, yhat_probs)\n",
    "print('Accuracy: %f' % accuracy)\n",
    "# precision tp / (tp + fp)\n",
    "precision = precision_score(val_LSTM_y, yhat_probs)\n",
    "print('Precision: %f' % precision)\n",
    "# recall: tp / (tp + fn)\n",
    "recall = recall_score(val_LSTM_y, yhat_probs)\n",
    "print('Recall: %f' % recall)\n"
   ]
  },
  {
   "cell_type": "code",
   "execution_count": null,
   "metadata": {
    "id": "mwqm7UPN4McA"
   },
   "outputs": [],
   "source": []
  },
  {
   "cell_type": "code",
   "execution_count": null,
   "metadata": {
    "id": "Mc45XGg82Ccr"
   },
   "outputs": [],
   "source": [
    "\n",
    "\n",
    "%matplotlib inline\n",
    "from sklearn.metrics import confusion_matrix\n",
    "import itertools\n",
    "import matplotlib.pyplot as plt"
   ]
  },
  {
   "cell_type": "code",
   "execution_count": null,
   "metadata": {
    "id": "IzlcpfXI2GWM"
   },
   "outputs": [],
   "source": [
    "cm = confusion_matrix(y_true=val_LSTM_y, y_pred=yhat_probs)\n"
   ]
  },
  {
   "cell_type": "code",
   "execution_count": null,
   "metadata": {
    "id": "q-bGWKy92IRI"
   },
   "outputs": [],
   "source": [
    "def plot_confusion_matrix(cm, classes,\n",
    "                        normalize=False,\n",
    "                        title='Confusion matrix',\n",
    "                        cmap=plt.cm.Blues):\n",
    "    \"\"\"\n",
    "    This function prints and plots the confusion matrix.\n",
    "    Normalization can be applied by setting `normalize=True`.\n",
    "    \"\"\"\n",
    "    plt.imshow(cm, interpolation='nearest', cmap=cmap)\n",
    "    plt.title(title)\n",
    "    plt.colorbar()\n",
    "    tick_marks = np.arange(len(classes))\n",
    "    plt.xticks(tick_marks, classes, rotation=45)\n",
    "    plt.yticks(tick_marks, classes)\n",
    "\n",
    "    if normalize:\n",
    "        cm = cm.astype('float') / cm.sum(axis=1)[:, np.newaxis]\n",
    "        print(\"Normalized confusion matrix\")\n",
    "    else:\n",
    "        print('Confusion matrix, without normalization')\n",
    "\n",
    "    print(cm)\n",
    "\n",
    "    thresh = cm.max() / 2.\n",
    "    for i, j in itertools.product(range(cm.shape[0]), range(cm.shape[1])):\n",
    "        plt.text(j, i, cm[i, j],\n",
    "            horizontalalignment=\"center\",\n",
    "            color=\"white\" if cm[i, j] > thresh else \"black\")\n",
    "\n",
    "    plt.tight_layout()\n",
    "    plt.ylabel('True label')\n",
    "    plt.xlabel('Predicted label')\n",
    "labels = ['Normal','Fraud']"
   ]
  },
  {
   "cell_type": "code",
   "execution_count": null,
   "metadata": {
    "colab": {
     "base_uri": "https://localhost:8080/",
     "height": 365
    },
    "id": "679LlpQo2LJy",
    "outputId": "af44262a-4e7d-40f7-df48-860ef738a770"
   },
   "outputs": [
    {
     "name": "stdout",
     "output_type": "stream",
     "text": [
      "Confusion matrix, without normalization\n",
      "[[ 8467 76826]\n",
      " [13182 72114]]\n"
     ]
    },
    {
     "data": {
      "image/png": "[encoded data removed]",
      "text/plain": [
       "<Figure size 432x288 with 2 Axes>"
      ]
     },
     "metadata": {
      "needs_background": "light"
     },
     "output_type": "display_data"
    }
   ],
   "source": [
    "plot_confusion_matrix(cm=cm, classes=labels, title='LSTM')\n"
   ]
  },
  {
   "cell_type": "code",
   "execution_count": null,
   "metadata": {
    "id": "yQmvmMII2RmG"
   },
   "outputs": [],
   "source": [
    "class attention(Layer):\n",
    "    def __init__(self,**kwargs):\n",
    "        super(attention,self).__init__(**kwargs)\n",
    "\n",
    "    def build(self,input_shape):\n",
    "        self.W=self.add_weight(name=\"att_weight\",shape=(input_shape[-1],1),initializer=\"normal\")\n",
    "        self.b=self.add_weight(name=\"att_bias\",shape=(input_shape[1],1),initializer=\"zeros\")        \n",
    "        super(attention, self).build(input_shape)\n",
    "\n",
    "    def call(self,x):\n",
    "        et=K.squeeze(K.tanh(K.dot(x,self.W)+self.b),axis=-1)\n",
    "        at=K.softmax(et)\n",
    "        at=K.expand_dims(at,axis=-1)\n",
    "        output=x*at\n",
    "        return K.sum(output,axis=1)\n",
    "\n",
    "    def compute_output_shape(self,input_shape):\n",
    "        return (input_shape[0],input_shape[-1])\n",
    "\n",
    "    def get_config(self):\n",
    "        return super(attention,self).get_config()"
   ]
  },
  {
   "cell_type": "code",
   "execution_count": null,
   "metadata": {
    "id": "H5t_hUDI2TpW"
   },
   "outputs": [],
   "source": [
    "inputs1=Input((1,9))\n",
    "att_in=LSTM(50,return_sequences=True,dropout=0.3,recurrent_dropout=0.2)(inputs1)\n",
    "att_in_1=LSTM(50,return_sequences=True,dropout=0.3,recurrent_dropout=0.2)(att_in)\n",
    "att_out=attention()(att_in_1)\n",
    "outputs1=Dense(1,activation='sigmoid',trainable=True)(att_out)\n",
    "model1=Model(inputs1,outputs1)\n",
    "     "
   ]
  },
  {
   "cell_type": "code",
   "execution_count": null,
   "metadata": {
    "id": "QFUGRlg72V5Z"
   },
   "outputs": [],
   "source": [
    "\n",
    "model1.compile(loss='binary_crossentropy', optimizer='adam', metrics=['accuracy'])\n"
   ]
  },
  {
   "cell_type": "code",
   "execution_count": null,
   "metadata": {
    "colab": {
     "base_uri": "https://localhost:8080/"
    },
    "id": "E34zRKUE2YgW",
    "outputId": "9803de72-d26a-463a-f9e8-5e4d6d86cd6e"
   },
   "outputs": [
    {
     "name": "stdout",
     "output_type": "stream",
     "text": [
      "Epoch 1/100\n",
      "14/14 [==============================] - 15s 629ms/step - loss: 0.6901 - accuracy: 0.5998 - val_loss: 0.6855 - val_accuracy: 0.6723\n",
      "Epoch 2/100\n",
      "14/14 [==============================] - 8s 577ms/step - loss: 0.6811 - accuracy: 0.6613 - val_loss: 0.6725 - val_accuracy: 0.6687\n",
      "Epoch 3/100\n",
      "14/14 [==============================] - 8s 538ms/step - loss: 0.6655 - accuracy: 0.6628 - val_loss: 0.6497 - val_accuracy: 0.6720\n",
      "Epoch 4/100\n",
      "14/14 [==============================] - 7s 534ms/step - loss: 0.6421 - accuracy: 0.6681 - val_loss: 0.6185 - val_accuracy: 0.6880\n",
      "Epoch 5/100\n",
      "14/14 [==============================] - 11s 781ms/step - loss: 0.6136 - accuracy: 0.6872 - val_loss: 0.5860 - val_accuracy: 0.7186\n",
      "Epoch 6/100\n",
      "14/14 [==============================] - 14s 973ms/step - loss: 0.5860 - accuracy: 0.7130 - val_loss: 0.5569 - val_accuracy: 0.7546\n",
      "Epoch 7/100\n",
      "14/14 [==============================] - 12s 862ms/step - loss: 0.5620 - accuracy: 0.7350 - val_loss: 0.5312 - val_accuracy: 0.7684\n",
      "Epoch 8/100\n",
      "14/14 [==============================] - 8s 583ms/step - loss: 0.5413 - accuracy: 0.7471 - val_loss: 0.5070 - val_accuracy: 0.7752\n",
      "Epoch 9/100\n",
      "14/14 [==============================] - 8s 602ms/step - loss: 0.5215 - accuracy: 0.7573 - val_loss: 0.4833 - val_accuracy: 0.7821\n",
      "Epoch 10/100\n",
      "14/14 [==============================] - 8s 572ms/step - loss: 0.5041 - accuracy: 0.7694 - val_loss: 0.4609 - val_accuracy: 0.8018\n",
      "Epoch 11/100\n",
      "14/14 [==============================] - 8s 562ms/step - loss: 0.4879 - accuracy: 0.7818 - val_loss: 0.4409 - val_accuracy: 0.8212\n",
      "Epoch 12/100\n",
      "14/14 [==============================] - 8s 542ms/step - loss: 0.4747 - accuracy: 0.7902 - val_loss: 0.4243 - val_accuracy: 0.8310\n",
      "Epoch 13/100\n",
      "14/14 [==============================] - 8s 571ms/step - loss: 0.4645 - accuracy: 0.7975 - val_loss: 0.4110 - val_accuracy: 0.8350\n",
      "Epoch 14/100\n",
      "14/14 [==============================] - 7s 530ms/step - loss: 0.4554 - accuracy: 0.8013 - val_loss: 0.4008 - val_accuracy: 0.8398\n",
      "Epoch 15/100\n",
      "14/14 [==============================] - 8s 545ms/step - loss: 0.4495 - accuracy: 0.8040 - val_loss: 0.3925 - val_accuracy: 0.8436\n",
      "Epoch 16/100\n",
      "14/14 [==============================] - 8s 574ms/step - loss: 0.4437 - accuracy: 0.8068 - val_loss: 0.3860 - val_accuracy: 0.8460\n",
      "Epoch 17/100\n",
      "14/14 [==============================] - 8s 547ms/step - loss: 0.4384 - accuracy: 0.8088 - val_loss: 0.3802 - val_accuracy: 0.8464\n",
      "Epoch 18/100\n",
      "14/14 [==============================] - 8s 580ms/step - loss: 0.4338 - accuracy: 0.8114 - val_loss: 0.3752 - val_accuracy: 0.8478\n",
      "Epoch 19/100\n",
      "14/14 [==============================] - 7s 533ms/step - loss: 0.4295 - accuracy: 0.8136 - val_loss: 0.3709 - val_accuracy: 0.8488\n",
      "Epoch 20/100\n",
      "14/14 [==============================] - 9s 635ms/step - loss: 0.4263 - accuracy: 0.8150 - val_loss: 0.3673 - val_accuracy: 0.8509\n",
      "Epoch 21/100\n",
      "14/14 [==============================] - 8s 535ms/step - loss: 0.4227 - accuracy: 0.8170 - val_loss: 0.3640 - val_accuracy: 0.8526\n",
      "Epoch 22/100\n",
      "14/14 [==============================] - 8s 546ms/step - loss: 0.4208 - accuracy: 0.8171 - val_loss: 0.3614 - val_accuracy: 0.8531\n",
      "Epoch 23/100\n",
      "14/14 [==============================] - 8s 560ms/step - loss: 0.4175 - accuracy: 0.8185 - val_loss: 0.3584 - val_accuracy: 0.8538\n",
      "Epoch 24/100\n",
      "14/14 [==============================] - 8s 551ms/step - loss: 0.4140 - accuracy: 0.8204 - val_loss: 0.3558 - val_accuracy: 0.8546\n",
      "Epoch 25/100\n",
      "14/14 [==============================] - 8s 568ms/step - loss: 0.4123 - accuracy: 0.8216 - val_loss: 0.3531 - val_accuracy: 0.8557\n",
      "Epoch 26/100\n",
      "14/14 [==============================] - 7s 531ms/step - loss: 0.4102 - accuracy: 0.8219 - val_loss: 0.3510 - val_accuracy: 0.8562\n",
      "Epoch 27/100\n",
      "14/14 [==============================] - 8s 556ms/step - loss: 0.4077 - accuracy: 0.8236 - val_loss: 0.3486 - val_accuracy: 0.8568\n",
      "Epoch 28/100\n",
      "14/14 [==============================] - 7s 534ms/step - loss: 0.4057 - accuracy: 0.8243 - val_loss: 0.3464 - val_accuracy: 0.8577\n",
      "Epoch 29/100\n",
      "14/14 [==============================] - 8s 560ms/step - loss: 0.4026 - accuracy: 0.8260 - val_loss: 0.3443 - val_accuracy: 0.8588\n",
      "Epoch 30/100\n",
      "14/14 [==============================] - 8s 572ms/step - loss: 0.4013 - accuracy: 0.8265 - val_loss: 0.3425 - val_accuracy: 0.8596\n",
      "Epoch 31/100\n",
      "14/14 [==============================] - 8s 615ms/step - loss: 0.3997 - accuracy: 0.8274 - val_loss: 0.3403 - val_accuracy: 0.8606\n",
      "Epoch 32/100\n",
      "14/14 [==============================] - 8s 536ms/step - loss: 0.3985 - accuracy: 0.8277 - val_loss: 0.3384 - val_accuracy: 0.8613\n",
      "Epoch 33/100\n",
      "14/14 [==============================] - 9s 618ms/step - loss: 0.3959 - accuracy: 0.8288 - val_loss: 0.3366 - val_accuracy: 0.8619\n",
      "Epoch 34/100\n",
      "14/14 [==============================] - 7s 529ms/step - loss: 0.3940 - accuracy: 0.8306 - val_loss: 0.3349 - val_accuracy: 0.8625\n",
      "Epoch 35/100\n",
      "14/14 [==============================] - 8s 542ms/step - loss: 0.3918 - accuracy: 0.8309 - val_loss: 0.3328 - val_accuracy: 0.8633\n",
      "Epoch 36/100\n",
      "14/14 [==============================] - 7s 535ms/step - loss: 0.3912 - accuracy: 0.8315 - val_loss: 0.3311 - val_accuracy: 0.8637\n",
      "Epoch 37/100\n",
      "14/14 [==============================] - 8s 552ms/step - loss: 0.3888 - accuracy: 0.8330 - val_loss: 0.3294 - val_accuracy: 0.8641\n",
      "Epoch 38/100\n",
      "14/14 [==============================] - 8s 542ms/step - loss: 0.3868 - accuracy: 0.8334 - val_loss: 0.3273 - val_accuracy: 0.8653\n",
      "Epoch 39/100\n",
      "14/14 [==============================] - 7s 507ms/step - loss: 0.3851 - accuracy: 0.8347 - val_loss: 0.3255 - val_accuracy: 0.8657\n",
      "Epoch 40/100\n",
      "14/14 [==============================] - 7s 527ms/step - loss: 0.3829 - accuracy: 0.8357 - val_loss: 0.3238 - val_accuracy: 0.8660\n",
      "Epoch 41/100\n",
      "14/14 [==============================] - 8s 559ms/step - loss: 0.3804 - accuracy: 0.8369 - val_loss: 0.3216 - val_accuracy: 0.8669\n",
      "Epoch 42/100\n",
      "14/14 [==============================] - 8s 544ms/step - loss: 0.3797 - accuracy: 0.8381 - val_loss: 0.3200 - val_accuracy: 0.8673\n",
      "Epoch 43/100\n",
      "14/14 [==============================] - 8s 558ms/step - loss: 0.3782 - accuracy: 0.8379 - val_loss: 0.3184 - val_accuracy: 0.8681\n",
      "Epoch 44/100\n",
      "14/14 [==============================] - 8s 588ms/step - loss: 0.3745 - accuracy: 0.8399 - val_loss: 0.3166 - val_accuracy: 0.8688\n",
      "Epoch 45/100\n",
      "14/14 [==============================] - 9s 610ms/step - loss: 0.3733 - accuracy: 0.8407 - val_loss: 0.3146 - val_accuracy: 0.8692\n",
      "Epoch 46/100\n",
      "14/14 [==============================] - 7s 538ms/step - loss: 0.3728 - accuracy: 0.8407 - val_loss: 0.3131 - val_accuracy: 0.8697\n",
      "Epoch 47/100\n",
      "14/14 [==============================] - 8s 544ms/step - loss: 0.3706 - accuracy: 0.8418 - val_loss: 0.3114 - val_accuracy: 0.8701\n",
      "Epoch 48/100\n",
      "14/14 [==============================] - 8s 565ms/step - loss: 0.3683 - accuracy: 0.8434 - val_loss: 0.3094 - val_accuracy: 0.8710\n",
      "Epoch 49/100\n",
      "14/14 [==============================] - 8s 556ms/step - loss: 0.3664 - accuracy: 0.8434 - val_loss: 0.3077 - val_accuracy: 0.8715\n",
      "Epoch 50/100\n",
      "14/14 [==============================] - 8s 551ms/step - loss: 0.3647 - accuracy: 0.8445 - val_loss: 0.3059 - val_accuracy: 0.8721\n",
      "Epoch 51/100\n",
      "14/14 [==============================] - 8s 568ms/step - loss: 0.3624 - accuracy: 0.8460 - val_loss: 0.3040 - val_accuracy: 0.8728\n",
      "Epoch 52/100\n",
      "14/14 [==============================] - 8s 534ms/step - loss: 0.3612 - accuracy: 0.8465 - val_loss: 0.3025 - val_accuracy: 0.8731\n",
      "Epoch 53/100\n",
      "14/14 [==============================] - 8s 567ms/step - loss: 0.3600 - accuracy: 0.8473 - val_loss: 0.3008 - val_accuracy: 0.8745\n",
      "Epoch 54/100\n",
      "14/14 [==============================] - 7s 534ms/step - loss: 0.3591 - accuracy: 0.8470 - val_loss: 0.2989 - val_accuracy: 0.8753\n",
      "Epoch 55/100\n",
      "14/14 [==============================] - 8s 554ms/step - loss: 0.3575 - accuracy: 0.8474 - val_loss: 0.2976 - val_accuracy: 0.8755\n",
      "Epoch 56/100\n",
      "14/14 [==============================] - 8s 573ms/step - loss: 0.3552 - accuracy: 0.8492 - val_loss: 0.2957 - val_accuracy: 0.8766\n",
      "Epoch 57/100\n",
      "14/14 [==============================] - 8s 567ms/step - loss: 0.3533 - accuracy: 0.8496 - val_loss: 0.2939 - val_accuracy: 0.8773\n",
      "Epoch 58/100\n",
      "14/14 [==============================] - 7s 508ms/step - loss: 0.3518 - accuracy: 0.8507 - val_loss: 0.2923 - val_accuracy: 0.8777\n",
      "Epoch 59/100\n",
      "14/14 [==============================] - 8s 567ms/step - loss: 0.3505 - accuracy: 0.8515 - val_loss: 0.2907 - val_accuracy: 0.8783\n",
      "Epoch 60/100\n",
      "14/14 [==============================] - 7s 527ms/step - loss: 0.3478 - accuracy: 0.8527 - val_loss: 0.2889 - val_accuracy: 0.8790\n",
      "Epoch 61/100\n",
      "14/14 [==============================] - 7s 537ms/step - loss: 0.3455 - accuracy: 0.8531 - val_loss: 0.2871 - val_accuracy: 0.8794\n",
      "Epoch 62/100\n",
      "14/14 [==============================] - 7s 531ms/step - loss: 0.3448 - accuracy: 0.8540 - val_loss: 0.2852 - val_accuracy: 0.8803\n",
      "Epoch 63/100\n",
      "14/14 [==============================] - 7s 524ms/step - loss: 0.3430 - accuracy: 0.8549 - val_loss: 0.2836 - val_accuracy: 0.8807\n",
      "Epoch 64/100\n",
      "14/14 [==============================] - 8s 551ms/step - loss: 0.3431 - accuracy: 0.8542 - val_loss: 0.2821 - val_accuracy: 0.8813\n",
      "Epoch 65/100\n",
      "14/14 [==============================] - 8s 545ms/step - loss: 0.3407 - accuracy: 0.8560 - val_loss: 0.2805 - val_accuracy: 0.8818\n",
      "Epoch 66/100\n",
      "14/14 [==============================] - 8s 543ms/step - loss: 0.3392 - accuracy: 0.8565 - val_loss: 0.2787 - val_accuracy: 0.8824\n",
      "Epoch 67/100\n",
      "14/14 [==============================] - 7s 529ms/step - loss: 0.3378 - accuracy: 0.8574 - val_loss: 0.2769 - val_accuracy: 0.8829\n",
      "Epoch 68/100\n",
      "14/14 [==============================] - 7s 510ms/step - loss: 0.3369 - accuracy: 0.8573 - val_loss: 0.2756 - val_accuracy: 0.8833\n",
      "Epoch 69/100\n",
      "14/14 [==============================] - 7s 505ms/step - loss: 0.3343 - accuracy: 0.8588 - val_loss: 0.2742 - val_accuracy: 0.8841\n",
      "Epoch 70/100\n",
      "14/14 [==============================] - 8s 555ms/step - loss: 0.3340 - accuracy: 0.8592 - val_loss: 0.2725 - val_accuracy: 0.8846\n",
      "Epoch 71/100\n",
      "14/14 [==============================] - 8s 541ms/step - loss: 0.3324 - accuracy: 0.8595 - val_loss: 0.2709 - val_accuracy: 0.8851\n",
      "Epoch 72/100\n",
      "14/14 [==============================] - 8s 544ms/step - loss: 0.3310 - accuracy: 0.8602 - val_loss: 0.2694 - val_accuracy: 0.8858\n",
      "Epoch 73/100\n",
      "14/14 [==============================] - 8s 539ms/step - loss: 0.3305 - accuracy: 0.8601 - val_loss: 0.2681 - val_accuracy: 0.8865\n",
      "Epoch 74/100\n",
      "14/14 [==============================] - 8s 554ms/step - loss: 0.3290 - accuracy: 0.8608 - val_loss: 0.2667 - val_accuracy: 0.8870\n",
      "Epoch 75/100\n",
      "14/14 [==============================] - 7s 531ms/step - loss: 0.3277 - accuracy: 0.8616 - val_loss: 0.2652 - val_accuracy: 0.8876\n",
      "Epoch 76/100\n",
      "14/14 [==============================] - 7s 530ms/step - loss: 0.3265 - accuracy: 0.8624 - val_loss: 0.2636 - val_accuracy: 0.8878\n",
      "Epoch 77/100\n",
      "14/14 [==============================] - 7s 517ms/step - loss: 0.3259 - accuracy: 0.8623 - val_loss: 0.2627 - val_accuracy: 0.8879\n",
      "Epoch 78/100\n",
      "14/14 [==============================] - 7s 518ms/step - loss: 0.3248 - accuracy: 0.8631 - val_loss: 0.2610 - val_accuracy: 0.8891\n",
      "Epoch 79/100\n",
      "14/14 [==============================] - 7s 514ms/step - loss: 0.3228 - accuracy: 0.8639 - val_loss: 0.2599 - val_accuracy: 0.8891\n",
      "Epoch 80/100\n",
      "14/14 [==============================] - 8s 579ms/step - loss: 0.3214 - accuracy: 0.8641 - val_loss: 0.2582 - val_accuracy: 0.8897\n",
      "Epoch 81/100\n",
      "14/14 [==============================] - 8s 547ms/step - loss: 0.3208 - accuracy: 0.8648 - val_loss: 0.2572 - val_accuracy: 0.8902\n",
      "Epoch 82/100\n",
      "14/14 [==============================] - 8s 549ms/step - loss: 0.3209 - accuracy: 0.8647 - val_loss: 0.2558 - val_accuracy: 0.8909\n",
      "Epoch 83/100\n",
      "14/14 [==============================] - 7s 508ms/step - loss: 0.3197 - accuracy: 0.8656 - val_loss: 0.2546 - val_accuracy: 0.8914\n",
      "Epoch 84/100\n",
      "14/14 [==============================] - 8s 570ms/step - loss: 0.3178 - accuracy: 0.8655 - val_loss: 0.2535 - val_accuracy: 0.8918\n",
      "Epoch 85/100\n",
      "14/14 [==============================] - 8s 555ms/step - loss: 0.3184 - accuracy: 0.8659 - val_loss: 0.2523 - val_accuracy: 0.8920\n",
      "Epoch 86/100\n",
      "14/14 [==============================] - 8s 559ms/step - loss: 0.3168 - accuracy: 0.8665 - val_loss: 0.2513 - val_accuracy: 0.8927\n",
      "Epoch 87/100\n",
      "14/14 [==============================] - 8s 563ms/step - loss: 0.3158 - accuracy: 0.8668 - val_loss: 0.2502 - val_accuracy: 0.8931\n",
      "Epoch 88/100\n",
      "14/14 [==============================] - 8s 544ms/step - loss: 0.3147 - accuracy: 0.8675 - val_loss: 0.2486 - val_accuracy: 0.8937\n",
      "Epoch 89/100\n",
      "14/14 [==============================] - 8s 553ms/step - loss: 0.3141 - accuracy: 0.8675 - val_loss: 0.2478 - val_accuracy: 0.8938\n",
      "Epoch 90/100\n",
      "14/14 [==============================] - 8s 542ms/step - loss: 0.3121 - accuracy: 0.8690 - val_loss: 0.2464 - val_accuracy: 0.8945\n",
      "Epoch 91/100\n",
      "14/14 [==============================] - 8s 555ms/step - loss: 0.3126 - accuracy: 0.8684 - val_loss: 0.2453 - val_accuracy: 0.8950\n",
      "Epoch 92/100\n",
      "14/14 [==============================] - 7s 527ms/step - loss: 0.3114 - accuracy: 0.8690 - val_loss: 0.2446 - val_accuracy: 0.8955\n",
      "Epoch 93/100\n",
      "14/14 [==============================] - 8s 550ms/step - loss: 0.3111 - accuracy: 0.8687 - val_loss: 0.2433 - val_accuracy: 0.8961\n",
      "Epoch 94/100\n",
      "14/14 [==============================] - 7s 511ms/step - loss: 0.3093 - accuracy: 0.8701 - val_loss: 0.2424 - val_accuracy: 0.8964\n",
      "Epoch 95/100\n",
      "14/14 [==============================] - 7s 533ms/step - loss: 0.3091 - accuracy: 0.8703 - val_loss: 0.2411 - val_accuracy: 0.8972\n",
      "Epoch 96/100\n",
      "14/14 [==============================] - 7s 503ms/step - loss: 0.3078 - accuracy: 0.8699 - val_loss: 0.2406 - val_accuracy: 0.8970\n",
      "Epoch 97/100\n",
      "14/14 [==============================] - 7s 530ms/step - loss: 0.3078 - accuracy: 0.8706 - val_loss: 0.2390 - val_accuracy: 0.8979\n",
      "Epoch 98/100\n",
      "14/14 [==============================] - 8s 557ms/step - loss: 0.3065 - accuracy: 0.8712 - val_loss: 0.2387 - val_accuracy: 0.8980\n",
      "Epoch 99/100\n",
      "14/14 [==============================] - 7s 507ms/step - loss: 0.3051 - accuracy: 0.8721 - val_loss: 0.2375 - val_accuracy: 0.8986\n",
      "Epoch 100/100\n",
      "14/14 [==============================] - 7s 525ms/step - loss: 0.3044 - accuracy: 0.8723 - val_loss: 0.2369 - val_accuracy: 0.8987\n"
     ]
    }
   ],
   "source": [
    "history1=model1.fit(train_LSTM_X, train_LSTM_y,epochs=100,batch_size=30000, validation_data=(val_LSTM_X, val_LSTM_y))\n"
   ]
  },
  {
   "cell_type": "code",
   "execution_count": null,
   "metadata": {
    "colab": {
     "base_uri": "https://localhost:8080/"
    },
    "id": "SQA2STUM2aQm",
    "outputId": "4e0dff6c-504c-4a9a-e78c-4008e805d06c"
   },
   "outputs": [
    {
     "name": "stdout",
     "output_type": "stream",
     "text": [
      "Saved model to disk\n"
     ]
    }
   ],
   "source": [
    "\n",
    "# save Attention model and architecture to single file\n",
    "model1.save('Save_Model_Attention.h5')\n",
    "print(\"Saved model to disk\")\n",
    "     "
   ]
  },
  {
   "cell_type": "code",
   "execution_count": null,
   "metadata": {
    "colab": {
     "base_uri": "https://localhost:8080/"
    },
    "id": "fl4X3iKu2cYk",
    "outputId": "421facc5-d0e1-4cf4-e9cc-270f7818452f"
   },
   "outputs": [
    {
     "name": "stdout",
     "output_type": "stream",
     "text": [
      "Model: \"model_1\"\n",
      "_________________________________________________________________\n",
      " Layer (type)                Output Shape              Param #   \n",
      "=================================================================\n",
      " input_2 (InputLayer)        [(None, 1, 9)]            0         \n",
      "                                                                 \n",
      " lstm_2 (LSTM)               (None, 1, 50)             12000     \n",
      "                                                                 \n",
      " lstm_3 (LSTM)               (None, 1, 50)             20200     \n",
      "                                                                 \n",
      " attention (attention)       (None, 50)                51        \n",
      "                                                                 \n",
      " dense_1 (Dense)             (None, 1)                 51        \n",
      "                                                                 \n",
      "=================================================================\n",
      "Total params: 32,302\n",
      "Trainable params: 32,302\n",
      "Non-trainable params: 0\n",
      "_________________________________________________________________\n"
     ]
    }
   ],
   "source": [
    "# load and evaluate a saved model\n",
    "import tensorflow_hub as hub\n",
    "\n",
    "from numpy import loadtxt\n",
    "from keras.models import load_model\n",
    " \n",
    "# load model\n",
    "model1 = load_model('Save_Model_Attention.h5',custom_objects={'attention':attention})\n",
    " #model1 = load_model('Save_Model_Attention.h5',custom_objects={\"lr\": lr_track })\n",
    "# summarize model.\n",
    "\n",
    "\n",
    "\n",
    "model1.summary()"
   ]
  },
  {
   "cell_type": "code",
   "execution_count": null,
   "metadata": {
    "colab": {
     "base_uri": "https://localhost:8080/"
    },
    "id": "lKIwskeT2eqq",
    "outputId": "6ccd6b88-bd65-460e-f7e2-65d519d9f683"
   },
   "outputs": [
    {
     "name": "stdout",
     "output_type": "stream",
     "text": [
      "Train: 0.900, Test: 0.899\n"
     ]
    }
   ],
   "source": [
    "\n",
    "# evaluate the model\n",
    "_, train_acc = model1.evaluate(train_LSTM_X, train_LSTM_y, verbose=0)\n",
    "_, test_acc = model1.evaluate(val_LSTM_X, val_LSTM_y, verbose=0)\n",
    "print('Train: %.3f, Test: %.3f' % (train_acc, test_acc))"
   ]
  },
  {
   "cell_type": "code",
   "execution_count": null,
   "metadata": {
    "id": "hePh6Kn12g7u"
   },
   "outputs": [],
   "source": [
    "# predict probabilities for test set\n",
    "yhat_probs1 = model1.predict(val_LSTM_X, verbose=0).round()\n",
    "# reduce to 1d array\n",
    "yhat_probs1 = yhat_probs1[:, 0]"
   ]
  },
  {
   "cell_type": "code",
   "execution_count": null,
   "metadata": {
    "colab": {
     "base_uri": "https://localhost:8080/"
    },
    "id": "dhWQCvDS2i2J",
    "outputId": "6af41066-b8a3-4409-d9a5-9b08cf809e9a"
   },
   "outputs": [
    {
     "name": "stdout",
     "output_type": "stream",
     "text": [
      "Accuracy: 0.898698\n",
      "Precision: 0.922732\n",
      "Recall: 0.870275\n"
     ]
    }
   ],
   "source": [
    "# demonstration of calculating metrics for a neural network model using sklearn\n",
    "from sklearn.metrics import accuracy_score\n",
    "from sklearn.metrics import precision_score\n",
    "from sklearn.metrics import recall_score\n",
    "from sklearn.metrics import confusion_matrix\n",
    "\n",
    "# accuracy: (tp + tn) / (p + n)\n",
    "accuracy = accuracy_score(val_LSTM_y, yhat_probs1)\n",
    "print('Accuracy: %f' % accuracy)\n",
    "# precision tp / (tp + fp)\n",
    "precision = precision_score(val_LSTM_y, yhat_probs1)\n",
    "print('Precision: %f' % precision)\n",
    "# recall: tp / (tp + fn)\n",
    "recall = recall_score(val_LSTM_y, yhat_probs1)\n",
    "print('Recall: %f' % recall)\n"
   ]
  },
  {
   "cell_type": "code",
   "execution_count": null,
   "metadata": {
    "id": "XYIjTvg52lN_"
   },
   "outputs": [],
   "source": [
    "cm1 = confusion_matrix(y_true=val_LSTM_y, y_pred=yhat_probs1)\n"
   ]
  },
  {
   "cell_type": "code",
   "execution_count": null,
   "metadata": {
    "colab": {
     "base_uri": "https://localhost:8080/",
     "height": 365
    },
    "id": "rw6ibEmX2m7p",
    "outputId": "f5547f3e-ce3e-4964-8158-75cd827f484b"
   },
   "outputs": [
    {
     "name": "stdout",
     "output_type": "stream",
     "text": [
      "Confusion matrix, without normalization\n",
      "[[79077  6216]\n",
      " [11065 74231]]\n"
     ]
    },
    {
     "data": {
      "image/png": "[encoded data removed]",
      "text/plain": [
       "<Figure size 432x288 with 2 Axes>"
      ]
     },
     "metadata": {
      "needs_background": "light"
     },
     "output_type": "display_data"
    }
   ],
   "source": [
    "plot_confusion_matrix(cm=cm1, classes=labels, title='LSTM-Attention', normalize=False)\n"
   ]
  },
  {
   "cell_type": "code",
   "execution_count": null,
   "metadata": {
    "id": "iSY-uTsJ2o7y"
   },
   "outputs": [],
   "source": []
  }
 ],
 "metadata": {
  "colab": {
   "provenance": []
  },
  "kernelspec": {
   "display_name": "conda_python3",
   "language": "python",
   "name": "conda_python3"
  },
  "language_info": {
   "codemirror_mode": {
    "name": "ipython",
    "version": 3
   },
   "file_extension": ".py",
   "mimetype": "text/x-python",
   "name": "python",
   "nbconvert_exporter": "python",
   "pygments_lexer": "ipython3",
   "version": "3.10.8"
  }
 },
 "nbformat": 4,
 "nbformat_minor": 1
}
